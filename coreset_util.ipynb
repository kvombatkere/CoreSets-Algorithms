{
 "cells": [
  {
   "cell_type": "code",
   "execution_count": 1,
   "metadata": {},
   "outputs": [],
   "source": [
    "## Coreset Util\n",
    "## Karan Vombatkere, Nov 2021\n",
    "\n",
    "import pandas as pd\n",
    "import numpy as np"
   ]
  },
  {
   "cell_type": "code",
   "execution_count": 5,
   "metadata": {},
   "outputs": [],
   "source": [
    "class Coreset_Util:\n",
    "    #Initialize with dataset name\n",
    "    def __init__(self, datasetName):\n",
    "        self.data = self.importData(datasetName)\n",
    "        return\n",
    "    \n",
    "    #Use Pandas to import dataset\n",
    "    def importData(self, fileName):\n",
    "        filePath = 'data/'+fileName\n",
    "        importedData = pd.read_csv(filePath)\n",
    "\n",
    "        print('Imported dataset:', fileName)\n",
    "        return importedData\n",
    "\n",
    "    #Specify subset of columns to use\n",
    "    def subsetColumns(self, columnList):\n",
    "        print('Subsetting Dataset to columns:', columnList)\n",
    "        self.data = self.data[columnList]\n",
    "        return\n",
    "\n",
    "    \n",
    "        "
   ]
  },
  {
   "cell_type": "code",
   "execution_count": null,
   "metadata": {},
   "outputs": [],
   "source": []
  },
  {
   "cell_type": "code",
   "execution_count": null,
   "metadata": {},
   "outputs": [],
   "source": []
  },
  {
   "cell_type": "code",
   "execution_count": 6,
   "metadata": {},
   "outputs": [
    {
     "name": "stdout",
     "output_type": "stream",
     "text": [
      "Imported dataset: UNdata_CO2Emissions.csv\n",
      "Subsetting Dataset to columns: ['Year', 'Value']\n"
     ]
    }
   ],
   "source": [
    "#preliminary testing\n",
    "dataset_name = 'UNdata_CO2Emissions.csv'\n",
    "a = Coreset_Util(dataset_name)\n",
    "a.subsetColumns(['Year', 'Value'])"
   ]
  },
  {
   "cell_type": "code",
   "execution_count": 7,
   "metadata": {},
   "outputs": [
    {
     "data": {
      "text/html": [
       "<div>\n",
       "<style scoped>\n",
       "    .dataframe tbody tr th:only-of-type {\n",
       "        vertical-align: middle;\n",
       "    }\n",
       "\n",
       "    .dataframe tbody tr th {\n",
       "        vertical-align: top;\n",
       "    }\n",
       "\n",
       "    .dataframe thead th {\n",
       "        text-align: right;\n",
       "    }\n",
       "</style>\n",
       "<table border=\"1\" class=\"dataframe\">\n",
       "  <thead>\n",
       "    <tr style=\"text-align: right;\">\n",
       "      <th></th>\n",
       "      <th>Year</th>\n",
       "      <th>Value</th>\n",
       "    </tr>\n",
       "  </thead>\n",
       "  <tbody>\n",
       "    <tr>\n",
       "      <th>0</th>\n",
       "      <td>2018</td>\n",
       "      <td>4.159539e+05</td>\n",
       "    </tr>\n",
       "    <tr>\n",
       "      <th>1</th>\n",
       "      <td>2017</td>\n",
       "      <td>4.150974e+05</td>\n",
       "    </tr>\n",
       "    <tr>\n",
       "      <th>2</th>\n",
       "      <td>2016</td>\n",
       "      <td>4.110315e+05</td>\n",
       "    </tr>\n",
       "    <tr>\n",
       "      <th>3</th>\n",
       "      <td>2015</td>\n",
       "      <td>4.015548e+05</td>\n",
       "    </tr>\n",
       "    <tr>\n",
       "      <th>4</th>\n",
       "      <td>2014</td>\n",
       "      <td>3.941169e+05</td>\n",
       "    </tr>\n",
       "    <tr>\n",
       "      <th>...</th>\n",
       "      <td>...</td>\n",
       "      <td>...</td>\n",
       "    </tr>\n",
       "    <tr>\n",
       "      <th>1242</th>\n",
       "      <td>1994</td>\n",
       "      <td>5.377033e+06</td>\n",
       "    </tr>\n",
       "    <tr>\n",
       "      <th>1243</th>\n",
       "      <td>1993</td>\n",
       "      <td>5.283438e+06</td>\n",
       "    </tr>\n",
       "    <tr>\n",
       "      <th>1244</th>\n",
       "      <td>1992</td>\n",
       "      <td>5.182707e+06</td>\n",
       "    </tr>\n",
       "    <tr>\n",
       "      <th>1245</th>\n",
       "      <td>1991</td>\n",
       "      <td>5.078890e+06</td>\n",
       "    </tr>\n",
       "    <tr>\n",
       "      <th>1246</th>\n",
       "      <td>1990</td>\n",
       "      <td>5.128301e+06</td>\n",
       "    </tr>\n",
       "  </tbody>\n",
       "</table>\n",
       "<p>1247 rows × 2 columns</p>\n",
       "</div>"
      ],
      "text/plain": [
       "      Year         Value\n",
       "0     2018  4.159539e+05\n",
       "1     2017  4.150974e+05\n",
       "2     2016  4.110315e+05\n",
       "3     2015  4.015548e+05\n",
       "4     2014  3.941169e+05\n",
       "...    ...           ...\n",
       "1242  1994  5.377033e+06\n",
       "1243  1993  5.283438e+06\n",
       "1244  1992  5.182707e+06\n",
       "1245  1991  5.078890e+06\n",
       "1246  1990  5.128301e+06\n",
       "\n",
       "[1247 rows x 2 columns]"
      ]
     },
     "execution_count": 7,
     "metadata": {},
     "output_type": "execute_result"
    }
   ],
   "source": [
    "a.data"
   ]
  },
  {
   "cell_type": "code",
   "execution_count": null,
   "metadata": {},
   "outputs": [],
   "source": []
  }
 ],
 "metadata": {
  "interpreter": {
   "hash": "916dbcbb3f70747c44a77c7bcd40155683ae19c65e1c03b4aa3499c5328201f1"
  },
  "kernelspec": {
   "display_name": "Python 3.8.10 64-bit",
   "language": "python",
   "name": "python3"
  },
  "language_info": {
   "codemirror_mode": {
    "name": "ipython",
    "version": 3
   },
   "file_extension": ".py",
   "mimetype": "text/x-python",
   "name": "python",
   "nbconvert_exporter": "python",
   "pygments_lexer": "ipython3",
   "version": "3.8.10"
  },
  "orig_nbformat": 4
 },
 "nbformat": 4,
 "nbformat_minor": 2
}
