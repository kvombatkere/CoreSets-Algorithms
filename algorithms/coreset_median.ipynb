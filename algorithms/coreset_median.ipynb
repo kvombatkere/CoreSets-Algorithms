{
 "cells": [
  {
   "cell_type": "code",
   "execution_count": 2,
   "metadata": {},
   "outputs": [],
   "source": [
    "## Median estimation using Coresets\n",
    "## Karan Vombatkere, Dec 2021\n",
    "\n",
    "import numpy as np\n",
    "\n",
    "class Coreset_Median:\n",
    "    \"\"\"\n",
    "    Class to compute median using Coresets\n",
    "    Parameters\n",
    "    ----------\n",
    "        x_arr : numpy array data from Coreset_Util - computes on first dimension\n",
    "        epsilon : epsilon value for Coreset\n",
    "    \"\"\"\n",
    "\n",
    "    #Initialize with data and epsilon value\n",
    "    def __init__(self, x_arr, epsilon):\n",
    "        self.x_array = sorted([x[0] for x in x_arr])\n",
    "        print(len(self.x_array))\n",
    "        self.epsilon = epsilon\n",
    "        \n",
    "\n",
    "    #Partition and create coresets    \n",
    "    def partitionSubsequences(self):\n",
    "        numPartitions = int(1/self.epsilon) + 1\n",
    "        partitionSize = int(len(self.x_array)/numPartitions)\n",
    "\n",
    "        coreset_Arr = []\n",
    "        for i in range(0, len(self.x_array), partitionSize):\n",
    "            coreset_Arr.append(self.x_array[i])\n",
    "\n",
    "        return coreset_Arr\n",
    "\n",
    "    #Compute median value\n",
    "    def compute_median(self):\n",
    "        coreset_array = self.partitionSubsequences()\n",
    "        medianVal = coreset_array[int(len(coreset_array)/2)]\n",
    "        \n",
    "        return medianVal"
   ]
  }
 ],
 "metadata": {
  "interpreter": {
   "hash": "916dbcbb3f70747c44a77c7bcd40155683ae19c65e1c03b4aa3499c5328201f1"
  },
  "kernelspec": {
   "display_name": "Python 3.8.10 64-bit",
   "language": "python",
   "name": "python3"
  },
  "language_info": {
   "codemirror_mode": {
    "name": "ipython",
    "version": 3
   },
   "file_extension": ".py",
   "mimetype": "text/x-python",
   "name": "python",
   "nbconvert_exporter": "python",
   "pygments_lexer": "ipython3",
   "version": "3.8.10"
  },
  "orig_nbformat": 4
 },
 "nbformat": 4,
 "nbformat_minor": 2
}
