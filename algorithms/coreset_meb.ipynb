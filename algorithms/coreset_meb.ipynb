{
 "cells": [
  {
   "cell_type": "code",
   "execution_count": 1,
   "metadata": {},
   "outputs": [],
   "source": [
    "## Coreset - Minimum Enclosing Ball\n",
    "## Karan Vombatkere, Dec 2021\n",
    "\n",
    "import pandas as pd\n",
    "import numpy as np"
   ]
  },
  {
   "cell_type": "code",
   "execution_count": 10,
   "metadata": {},
   "outputs": [],
   "source": [
    "class Coreset_MinimumEnclosingBall:\n",
    "    \"\"\"\n",
    "    Class to compute Minimum Enclosing Ball Coreset\n",
    "    Parameters\n",
    "    ----------\n",
    "        x_arr : numpy array data from Coreset_Util - must be R^2\n",
    "        epsilon : epsilon value\n",
    "    ----------\n",
    "    Reference: Chapter 12, Data Stream Algorithms Lecture Notes, Amit Chakrabarti\n",
    "    \"\"\"\n",
    "    \n",
    "    #Initialize with parameters\n",
    "    def __init__(self, x_arr, epsilon):\n",
    "        self.x_array = x_arr\n",
    "        self.epsilon = epsilon\n",
    "\n",
    "\n",
    "    #Compute theta grid for data\n",
    "    def compute_thetaGrid(self):\n",
    "        thetaVal = np.sqrt(self.epsilon)\n",
    "        numAngles = int((2*np.pi)/(thetaVal)) + 1\n",
    "        \n",
    "        self.thetaAngles = []\n",
    "\n",
    "        for i in range(numAngles):\n",
    "            angle_i = (2*np.pi/numAngles)*i\n",
    "            y_val = np.tan(angle_i)\n",
    "            x_val = 1\n",
    "\n",
    "            if (np.pi/2) <= angle_i <= (3*np.pi/2):\n",
    "                x_val = -x_val\n",
    "                y_val = -y_val\n",
    "\n",
    "            self.thetaAngles.append([x_val, y_val])\n",
    "\n",
    "        return\n",
    "\n",
    "\n",
    "    #Function to compute angle between two vetors\n",
    "    def vector_angle(self, u, v):\n",
    "        dotProduct = np.dot(u,v)\n",
    "        l2_normProduct = np.linalg.norm(u)*np.linalg.norm(v)\n",
    "        angle = np.arccos(dotProduct/l2_normProduct)\n",
    "        \n",
    "        return angle\n",
    "\n",
    "\n",
    "    #Function to compute argmin angle between a vector and x_array\n",
    "    def compute_minAngle_vector(self, vec):\n",
    "        minAngle = 100\n",
    "        minVec = []\n",
    "        for u in self.x_array:\n",
    "            vec_angle = self.vector_angle(u, vec)\n",
    "            if vec_angle <= minAngle:\n",
    "                minVec = u\n",
    "                minAngle = vec_angle\n",
    "\n",
    "        return minVec\n",
    "\n",
    "\n",
    "    #Compute Minimum Enclosing ball\n",
    "    def compute_minimumEnclosingBall(self):\n",
    "        meb_vector = []\n",
    "\n",
    "        #Compute theta grid\n",
    "        self.compute_thetaGrid()\n",
    "\n",
    "        for vec_i in self.thetaAngles:\n",
    "            minVec_i = self.compute_minAngle_vector(vec_i)\n",
    "            meb_vector.append(minVec_i)\n",
    "\n",
    "        return meb_vector"
   ]
  },
  {
   "cell_type": "code",
   "execution_count": 11,
   "metadata": {},
   "outputs": [],
   "source": [
    "#Test data\n",
    "x_arr = []\n",
    "for i in range(1000):\n",
    "    x_val, y_val = np.random.randint(-100,101), np.random.randint(-100,101)\n",
    "    x_arr.append([x_val, y_val])\n",
    "\n",
    "eps = 0.05\n"
   ]
  },
  {
   "cell_type": "code",
   "execution_count": null,
   "metadata": {},
   "outputs": [],
   "source": []
  },
  {
   "cell_type": "code",
   "execution_count": 13,
   "metadata": {},
   "outputs": [
    {
     "data": {
      "text/plain": [
       "[[14, 0],\n",
       " [52, 12],\n",
       " [100, 47],\n",
       " [41, 31],\n",
       " [70, 82],\n",
       " [32, 60],\n",
       " [24, 85],\n",
       " [5, 96],\n",
       " [-10, 61],\n",
       " [-40, 100],\n",
       " [-61, 90],\n",
       " [-20, 19],\n",
       " [-73, 44],\n",
       " [-37, 13],\n",
       " [-57, 6],\n",
       " [-76, -9],\n",
       " [-90, -30],\n",
       " [-92, -55],\n",
       " [-40, -38],\n",
       " [-47, -69],\n",
       " [-24, -61],\n",
       " [-13, -77],\n",
       " [2, -35],\n",
       " [24, -86],\n",
       " [28, -53],\n",
       " [51, -60],\n",
       " [95, -70],\n",
       " [58, -27],\n",
       " [14, -3]]"
      ]
     },
     "execution_count": 13,
     "metadata": {},
     "output_type": "execute_result"
    }
   ],
   "source": [
    "meb_test = Coreset_MinimumEnclosingBall(x_arr, eps)\n",
    "meb_test.compute_minimumEnclosingBall()"
   ]
  },
  {
   "cell_type": "code",
   "execution_count": null,
   "metadata": {},
   "outputs": [],
   "source": []
  },
  {
   "cell_type": "code",
   "execution_count": null,
   "metadata": {},
   "outputs": [],
   "source": []
  },
  {
   "cell_type": "code",
   "execution_count": null,
   "metadata": {},
   "outputs": [],
   "source": []
  }
 ],
 "metadata": {
  "interpreter": {
   "hash": "916dbcbb3f70747c44a77c7bcd40155683ae19c65e1c03b4aa3499c5328201f1"
  },
  "kernelspec": {
   "display_name": "Python 3.8.10 64-bit",
   "language": "python",
   "name": "python3"
  },
  "language_info": {
   "codemirror_mode": {
    "name": "ipython",
    "version": 3
   },
   "file_extension": ".py",
   "mimetype": "text/x-python",
   "name": "python",
   "nbconvert_exporter": "python",
   "pygments_lexer": "ipython3",
   "version": "3.8.10"
  },
  "orig_nbformat": 4
 },
 "nbformat": 4,
 "nbformat_minor": 2
}
