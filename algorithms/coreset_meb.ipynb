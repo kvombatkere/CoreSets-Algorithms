{
 "cells": [
  {
   "cell_type": "code",
   "execution_count": 1,
   "metadata": {},
   "outputs": [],
   "source": [
    "## Coreset - Minimum Enclosing Ball\n",
    "## Karan Vombatkere, Dec 2021\n",
    "\n",
    "import pandas as pd\n",
    "import numpy as np\n",
    "import matplotlib.pyplot as plt"
   ]
  },
  {
   "cell_type": "code",
   "execution_count": 2,
   "metadata": {},
   "outputs": [],
   "source": [
    "class Coreset_MinimumEnclosingBall:\n",
    "    \"\"\"\n",
    "    Class to compute Minimum Enclosing Ball Coreset\n",
    "    Parameters\n",
    "    ----------\n",
    "        x_arr : numpy array data from Coreset_Util - must be R^2\n",
    "        epsilon : epsilon value\n",
    "    ----------\n",
    "    Reference: Chapter 12, Data Stream Algorithms Lecture Notes, Amit Chakrabarti\n",
    "    \"\"\"\n",
    "    \n",
    "    #Initialize with parameters\n",
    "    def __init__(self, x_arr, epsilon):\n",
    "        self.x_array = x_arr\n",
    "        self.epsilon = epsilon\n",
    "\n",
    "\n",
    "    #Compute theta grid for data\n",
    "    def compute_thetaGrid(self):\n",
    "        thetaVal = np.sqrt(self.epsilon)\n",
    "        numAngles = int((2*np.pi)/(thetaVal)) + 1\n",
    "        \n",
    "        self.thetaAngles = []\n",
    "        self.angleSize = (2*np.pi/numAngles)\n",
    "\n",
    "        for i in range(numAngles):\n",
    "            angle_i = self.angleSize*i\n",
    "            y_val = np.tan(angle_i)\n",
    "            x_val = 1\n",
    "\n",
    "            if (np.pi/2) <= angle_i <= (3*np.pi/2):\n",
    "                x_val = -x_val\n",
    "                y_val = -y_val\n",
    "\n",
    "            self.thetaAngles.append([x_val, y_val])\n",
    "\n",
    "        return\n",
    "\n",
    "\n",
    "    #Function to compute angle between two vetors\n",
    "    def vector_angle(self, u, v):\n",
    "        dotProduct = np.dot(u,v)\n",
    "        l2_normProduct = np.linalg.norm(u)*np.linalg.norm(v)\n",
    "        angle = np.arccos(dotProduct/l2_normProduct)\n",
    "        \n",
    "        return angle\n",
    "\n",
    "\n",
    "    #Function to compute argmin angle between a vector and x_array\n",
    "    def compute_mebAngle_vector(self, vec):\n",
    "        maxProduct = 0\n",
    "        mebVec = []\n",
    "        for u in self.x_array:\n",
    "            dotProduct = np.dot(u, vec)\n",
    "            vec_angle = self.vector_angle(u, vec)\n",
    "\n",
    "            #Consider points only along direction of vec\n",
    "            if vec_angle <= self.angleSize:\n",
    "                if dotProduct >= maxProduct:\n",
    "                    mebVec = u\n",
    "                    maxProduct = dotProduct\n",
    "\n",
    "        return mebVec\n",
    "\n",
    "    #Function to plot MEB and x_array\n",
    "    def plot2D_meb(self, meb_vec):\n",
    "        x_plt = [vec[0] for vec in self.x_array]\n",
    "        y_plt = [vec[1] for vec in self.x_array]\n",
    "\n",
    "        plt.scatter(x_plt, y_plt, s= 0.05, label = 'Points')\n",
    "\n",
    "        meb_x = [vec[0] for vec in meb_vec]\n",
    "        meb_y = [vec[1] for vec in meb_vec]\n",
    "        plt.scatter(meb_x, meb_y, marker = '+', label = 'MEB')\n",
    "\n",
    "        title_text = 'Scatter plot: Minimum enclosing ball'\n",
    "        plt.title(title_text, fontsize=11)\n",
    "        plt.ylabel('y')\n",
    "        plt.xlabel('x')\n",
    "        plt.xlim([1.25*min(x_plt), 1.25*max(x_plt)])\n",
    "        plt.ylim([1.25*min(y_plt), 1.25*max(y_plt)])\n",
    "\n",
    "        plt.legend(loc='lower right', fontsize=9)\n",
    "        plt.rcParams[\"figure.figsize\"] = (8,8)\n",
    "        plt.show()\n",
    "\n",
    "        return None\n",
    "\n",
    "    #Compute Minimum Enclosing ball\n",
    "    def compute_minimumEnclosingBall(self):\n",
    "        meb_vector = []\n",
    "\n",
    "        #Compute theta grid\n",
    "        self.compute_thetaGrid()\n",
    "\n",
    "        for vec_i in self.thetaAngles:\n",
    "            mebVec_i = self.compute_mebAngle_vector(vec_i)\n",
    "            meb_vector.append(mebVec_i)\n",
    "\n",
    "        return meb_vector"
   ]
  },
  {
   "cell_type": "code",
   "execution_count": 3,
   "metadata": {},
   "outputs": [],
   "source": [
    "#Test data\n",
    "x_arr = []\n",
    "for i in range(1000):\n",
    "    x_val, y_val = np.random.randint(-100,101), np.random.randint(-100,101)\n",
    "    x_arr.append([x_val, y_val])\n",
    "\n",
    "eps = 0.05\n"
   ]
  },
  {
   "cell_type": "code",
   "execution_count": null,
   "metadata": {},
   "outputs": [],
   "source": []
  },
  {
   "cell_type": "code",
   "execution_count": 4,
   "metadata": {},
   "outputs": [],
   "source": [
    "meb_test = Coreset_MinimumEnclosingBall(x_arr, eps)\n",
    "v = meb_test.compute_minimumEnclosingBall()"
   ]
  },
  {
   "cell_type": "code",
   "execution_count": 5,
   "metadata": {},
   "outputs": [
    {
     "data": {
      "image/png": "[encoded data removed]",
      "text/plain": [
       "<Figure size 432x288 with 1 Axes>"
      ]
     },
     "metadata": {
      "needs_background": "light"
     },
     "output_type": "display_data"
    }
   ],
   "source": [
    "meb_test.plot2D_meb(v)"
   ]
  },
  {
   "cell_type": "code",
   "execution_count": null,
   "metadata": {},
   "outputs": [],
   "source": []
  },
  {
   "cell_type": "code",
   "execution_count": null,
   "metadata": {},
   "outputs": [],
   "source": []
  }
 ],
 "metadata": {
  "interpreter": {
   "hash": "916dbcbb3f70747c44a77c7bcd40155683ae19c65e1c03b4aa3499c5328201f1"
  },
  "kernelspec": {
   "display_name": "Python 3.8.10 64-bit",
   "language": "python",
   "name": "python3"
  },
  "language_info": {
   "codemirror_mode": {
    "name": "ipython",
    "version": 3
   },
   "file_extension": ".py",
   "mimetype": "text/x-python",
   "name": "python",
   "nbconvert_exporter": "python",
   "pygments_lexer": "ipython3",
   "version": "3.8.10"
  },
  "orig_nbformat": 4
 },
 "nbformat": 4,
 "nbformat_minor": 2
}
