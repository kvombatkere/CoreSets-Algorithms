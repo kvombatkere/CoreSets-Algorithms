{
 "cells": [
  {
   "cell_type": "code",
   "execution_count": 2,
   "metadata": {},
   "outputs": [],
   "source": [
    "## K-Center Coreset\n",
    "## Karan Vombatkere, Dec 2021\n",
    "\n",
    "import pandas as pd\n",
    "import numpy as np\n",
    "import helper_functions as hf"
   ]
  },
  {
   "cell_type": "code",
   "execution_count": 3,
   "metadata": {},
   "outputs": [],
   "source": [
    "class Coreset_kCenter:\n",
    "    \"\"\"\n",
    "    Class to compute K-Center Coreset\n",
    "    Parameters\n",
    "    ----------\n",
    "        x_arr : numpy array data from Coreset_Util\n",
    "        k_val : Value of k for computing k-center Coreset\n",
    "        epsilon : epsilon value for Coreset\n",
    "    \"\"\"\n",
    "    \n",
    "    #Initialize with parameters\n",
    "    def __init__(self, x_arr, k_val, epsilon):\n",
    "        self.x_array = x_arr\n",
    "        self.k = k_val\n",
    "        self.epsilon = epsilon\n",
    "        \n",
    "\n",
    "    #Compute Greedy k-center with polynomial 2-approximation\n",
    "    def greedy_kcenter(self):\n",
    "        self.centers = []\n",
    "\n",
    "        #Randomly select a point and add to centers\n",
    "        randomPointIndex = np.random.randint(0,len(self.x_array)+1)\n",
    "        s_1 = self.x_array[randomPointIndex]\n",
    "        self.centers.append(s_1)\n",
    "\n",
    "        while len(self.centers) < self.k:\n",
    "            maximum_dist_point = hf.max_distance(self.x_array, self.centers)\n",
    "            self.centers.append(maximum_dist_point)\n",
    "\n",
    "        return self.centers\n",
    "\n",
    "    "
   ]
  },
  {
   "cell_type": "code",
   "execution_count": null,
   "metadata": {},
   "outputs": [],
   "source": []
  }
 ],
 "metadata": {
  "interpreter": {
   "hash": "916dbcbb3f70747c44a77c7bcd40155683ae19c65e1c03b4aa3499c5328201f1"
  },
  "kernelspec": {
   "display_name": "Python 3.8.10 64-bit",
   "language": "python",
   "name": "python3"
  },
  "language_info": {
   "codemirror_mode": {
    "name": "ipython",
    "version": 3
   },
   "file_extension": ".py",
   "mimetype": "text/x-python",
   "name": "python",
   "nbconvert_exporter": "python",
   "pygments_lexer": "ipython3",
   "version": "3.8.10"
  },
  "orig_nbformat": 4
 },
 "nbformat": 4,
 "nbformat_minor": 2
}
