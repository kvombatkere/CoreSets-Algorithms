{
 "cells": [
  {
   "cell_type": "code",
   "execution_count": 1,
   "metadata": {},
   "outputs": [],
   "source": [
    "## K-Center Coreset\n",
    "## Karan Vombatkere, Dec 2021\n",
    "\n",
    "import pandas as pd\n",
    "import numpy as np\n",
    "import matplotlib.pyplot as plt\n",
    "import helper_functions as hf"
   ]
  },
  {
   "cell_type": "code",
   "execution_count": 2,
   "metadata": {},
   "outputs": [],
   "source": [
    "class Coreset_kCenter:\n",
    "    \"\"\"\n",
    "    Class to compute K-Center Coreset\n",
    "    Parameters\n",
    "    ----------\n",
    "        x_arr : numpy array data from Coreset_Util\n",
    "        k_val : Value of k for computing k-center Coreset\n",
    "        epsilon : epsilon value for Coreset\n",
    "    \"\"\"\n",
    "    \n",
    "    #Initialize with parameters\n",
    "    def __init__(self, x_arr, k_val, epsilon):\n",
    "        self.x_array = np.array(x_arr)\n",
    "        self.k = k_val\n",
    "        self.epsilon = epsilon\n",
    "        self.centers = None\n",
    "    \n",
    "\n",
    "    #Function to plot kcenters and x_array\n",
    "    def plot2D_kcenters(self):\n",
    "        if self.centers is None:\n",
    "            print(\"k-centers not computed yet. Compute first and then plot\")\n",
    "            return None\n",
    "\n",
    "        x_plt = [vec[0] for vec in self.x_array]\n",
    "        y_plt = [vec[1] for vec in self.x_array]\n",
    "\n",
    "        plt.scatter(x_plt, y_plt, s= 0.05, label = 'Points')\n",
    "\n",
    "        c_x = [vec[0] for vec in self.centers]\n",
    "        c_y = [vec[1] for vec in self.centers]\n",
    "        plt.scatter(c_x, c_y, marker = '+', label = 'K-Centers')\n",
    "\n",
    "        title_text = 'K-Center Plot'\n",
    "        plt.title(title_text, fontsize=11)\n",
    "        plt.ylabel('y')\n",
    "        plt.xlabel('x')\n",
    "        plt.xlim([1.25*min(x_plt), 1.25*max(x_plt)])\n",
    "        plt.ylim([1.25*min(y_plt), 1.25*max(y_plt)])\n",
    "\n",
    "        plt.legend(loc='lower right', fontsize=9)\n",
    "        plt.rcParams[\"figure.figsize\"] = (8,8)\n",
    "        plt.show()\n",
    "\n",
    "        return None\n",
    "\n",
    "\n",
    "\n",
    "    #Compute Greedy k-center with polynomial 2-approximation\n",
    "    def greedy_kcenter(self):\n",
    "\n",
    "        #Randomly select a point and add to centers\n",
    "        randomPointIndex = np.random.randint(0,len(self.x_array)+1)\n",
    "        s_1 = self.x_array[randomPointIndex]\n",
    "        self.centers = np.array([s_1])\n",
    "\n",
    "        #Initialize all distances initially to s_1\n",
    "        point_distances = [hf.dist(self.x_array[i], s_1) for i in range(len(self.x_array))]\n",
    "\n",
    "        while len(self.centers) < self.k:\n",
    "            #Get the farthest point to add to centers\n",
    "            max_point_index = point_distances.index(max(point_distances))\n",
    "            maximum_dist_point = self.x_array[max_point_index]\n",
    "\n",
    "            self.centers = np.vstack([self.centers, maximum_dist_point])\n",
    "            \n",
    "            #Update point distances\n",
    "            point_distances = [min(hf.dist(self.x_array[i], maximum_dist_point), point_distances[i]) for i in range(len(self.x_array))]\n",
    "\n",
    "           \n",
    "        return self.centers\n",
    "\n",
    "\n",
    "    \n",
    "    "
   ]
  },
  {
   "cell_type": "code",
   "execution_count": null,
   "metadata": {},
   "outputs": [],
   "source": []
  },
  {
   "cell_type": "code",
   "execution_count": 3,
   "metadata": {},
   "outputs": [],
   "source": [
    "#Test data\n",
    "x_arr = []\n",
    "for i in range(1000):\n",
    "    x_val, y_val = np.random.randint(-100,101), np.random.randint(-100,101)\n",
    "    x_arr.append([x_val, y_val])"
   ]
  },
  {
   "cell_type": "code",
   "execution_count": 4,
   "metadata": {},
   "outputs": [],
   "source": [
    "test_kcenter = Coreset_kCenter(x_arr, 12, 0.2)"
   ]
  },
  {
   "cell_type": "code",
   "execution_count": 5,
   "metadata": {},
   "outputs": [
    {
     "name": "stdout",
     "output_type": "stream",
     "text": [
      "[-100  -96]\n",
      "[-96  99]\n",
      "[ 32 -97]\n",
      "[-37   0]\n",
      "[ 4 96]\n",
      "[92 99]\n",
      "[ 98 -60]\n",
      "[ 29 -29]\n",
      "[-35 -77]\n",
      "[-97  28]\n",
      "[-92 -33]\n"
     ]
    },
    {
     "data": {
      "text/plain": [
       "array([[  73,   23],\n",
       "       [-100,  -96],\n",
       "       [ -96,   99],\n",
       "       [  32,  -97],\n",
       "       [ -37,    0],\n",
       "       [   4,   96],\n",
       "       [  92,   99],\n",
       "       [  98,  -60],\n",
       "       [  29,  -29],\n",
       "       [ -35,  -77],\n",
       "       [ -97,   28],\n",
       "       [ -92,  -33]])"
      ]
     },
     "execution_count": 5,
     "metadata": {},
     "output_type": "execute_result"
    }
   ],
   "source": [
    "test_kcenter.greedy_kcenter()"
   ]
  },
  {
   "cell_type": "code",
   "execution_count": 7,
   "metadata": {},
   "outputs": [
    {
     "data": {
      "image/png": "[encoded data removed]",
      "text/plain": [
       "<Figure size 576x576 with 1 Axes>"
      ]
     },
     "metadata": {
      "needs_background": "light"
     },
     "output_type": "display_data"
    }
   ],
   "source": [
    "test_kcenter.plot2D_kcenters()"
   ]
  },
  {
   "cell_type": "code",
   "execution_count": null,
   "metadata": {},
   "outputs": [],
   "source": []
  }
 ],
 "metadata": {
  "interpreter": {
   "hash": "916dbcbb3f70747c44a77c7bcd40155683ae19c65e1c03b4aa3499c5328201f1"
  },
  "kernelspec": {
   "display_name": "Python 3.8.10 64-bit",
   "language": "python",
   "name": "python3"
  },
  "language_info": {
   "codemirror_mode": {
    "name": "ipython",
    "version": 3
   },
   "file_extension": ".py",
   "mimetype": "text/x-python",
   "name": "python",
   "nbconvert_exporter": "python",
   "pygments_lexer": "ipython3",
   "version": "3.8.10"
  },
  "orig_nbformat": 4
 },
 "nbformat": 4,
 "nbformat_minor": 2
}
