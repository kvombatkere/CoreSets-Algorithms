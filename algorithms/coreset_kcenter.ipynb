{
 "cells": [
  {
   "cell_type": "code",
   "execution_count": 1,
   "metadata": {},
   "outputs": [],
   "source": [
    "## K-Center Coreset\n",
    "## Karan Vombatkere, Dec 2021\n",
    "\n",
    "import pandas as pd\n",
    "import numpy as np\n",
    "import matplotlib.pyplot as plt\n",
    "import helper_functions as hf\n",
    "import time"
   ]
  },
  {
   "cell_type": "code",
   "execution_count": 2,
   "metadata": {},
   "outputs": [],
   "source": [
    "class Coreset_kCenter:\n",
    "    \"\"\"\n",
    "    Class to compute K-Center Coreset\n",
    "    Parameters\n",
    "    ----------\n",
    "        x_arr : numpy array data from Coreset_Util\n",
    "        k_val : Value of k for computing k-center Coreset\n",
    "        epsilon : epsilon value for Coreset\n",
    "    \n",
    "    ----------\n",
    "    References\n",
    "    1. Agarwal, Pankaj K., Sariel Har-Peled, and Kasturi R. Varadarajan. \"Geometric approximation via coresets.\" \n",
    "    Combinatorial and computational geometry 52.1-30 (2005): 3.\n",
    "    \"\"\"\n",
    "    \n",
    "    #Initialize with parameters\n",
    "    def __init__(self, x_arr, k_val, epsilon):\n",
    "        self.x_array = np.array(x_arr)\n",
    "        self.k = k_val\n",
    "        self.epsilon = epsilon\n",
    "\n",
    "        self.dims = self.x_array.shape[1]\n",
    "        self.centers = None\n",
    "        self.R_val = None\n",
    "\n",
    "        self.coreSet_array = []\n",
    "\n",
    "\n",
    "    #Function to plot Coreset and x_array\n",
    "    def plot2D_coreset(self):\n",
    "        if  self.coreSet_array == []:\n",
    "            print(\"d-dimensional grid not computed yet. Compute first and then plot\")\n",
    "            return None\n",
    "\n",
    "        x_plt = [vec[0] for vec in self.x_array]\n",
    "        y_plt = [vec[1] for vec in self.x_array]\n",
    "\n",
    "        plt.scatter(x_plt, y_plt, s=0.5, label = 'Points')\n",
    "\n",
    "        c_x = [vec[0] for vec in  self.coreSet_array]\n",
    "        c_y = [vec[1] for vec in  self.coreSet_array]\n",
    "        plt.scatter(c_x, c_y, marker = '+', label = 'CoreSet')\n",
    "\n",
    "        c_x = [vec[0] for vec in self.centers]\n",
    "        c_y = [vec[1] for vec in self.centers]\n",
    "        plt.scatter(c_x, c_y, marker = '*', color = 'black', label = 'K-Centers')\n",
    "\n",
    "\n",
    "        title_text = 'k-Center Coreset for k={}, epsilon={}, n={}'.format(self.k, self.epsilon, self.x_array.shape[0])\n",
    "        plt.title(title_text, fontsize=11)\n",
    "        plt.ylabel('y')\n",
    "        plt.xlabel('x')\n",
    "        plt.xlim([1.25*min(x_plt), 1.25*max(x_plt)])\n",
    "        plt.ylim([1.25*min(y_plt), 1.25*max(y_plt)])\n",
    "\n",
    "        plt.legend(loc='lower right', fontsize=9)\n",
    "        plt.rcParams[\"figure.figsize\"] = (8,8)\n",
    "        plt.show()\n",
    "\n",
    "        return None\n",
    "\n",
    "\n",
    "    #Compute Greedy k-center with polynomial 2-approximation\n",
    "    def greedy_kcenter(self):\n",
    "\n",
    "        #Randomly select a point and add to centers\n",
    "        randomPointIndex = np.random.randint(0,len(self.x_array)+1)\n",
    "        s_1 = self.x_array[randomPointIndex]\n",
    "        self.centers = np.array([s_1])\n",
    "\n",
    "        #Initialize all distances initially to s_1\n",
    "        point_distances = [hf.dist(self.x_array[i], s_1) for i in range(len(self.x_array))]\n",
    "\n",
    "        while len(self.centers) < self.k:\n",
    "            #Get the farthest point to add to centers\n",
    "            max_point_index = point_distances.index(max(point_distances))\n",
    "            maximum_dist_point = self.x_array[max_point_index]\n",
    "\n",
    "            self.centers = np.vstack([self.centers, maximum_dist_point])\n",
    "            \n",
    "            #Update point distances\n",
    "            point_distances = [min(hf.dist(self.x_array[i], maximum_dist_point), point_distances[i]) for i in range(len(self.x_array))]\n",
    "\n",
    "        \n",
    "        #Get the cost, R\n",
    "        self.R_val = max(point_distances)\n",
    "\n",
    "        return \n",
    "\n",
    "    \n",
    "    #Compute d-dimensinsional grid\n",
    "    def compute_d_grid(self):\n",
    "        if self.R_val is None:\n",
    "            print(\"Greedy k-centers not computed yet. Compute first and then try\")\n",
    "            return None\n",
    "\n",
    "        print(\"Epsilon = {}, R_Cost = {}, Dimensions = {}\".format(self.epsilon, self.R_val, self.dims))\n",
    "        \n",
    "        #Side length of d-dimensional grid\n",
    "        side_length = (self.epsilon*self.R_val)/(5*self.dims)\n",
    "        print(\"d-dimensional grid side_length = \", side_length)\n",
    "\n",
    "        x_min, y_min, x_max, y_max = self.get_minMax_xy()\n",
    "        \n",
    "        #Use grid to extract coreset - currently in 2D\n",
    "        x = x_min\n",
    "        while x < x_max:\n",
    "            y = y_min\n",
    "            while y < y_max:\n",
    "                \n",
    "                for p in self.x_array:\n",
    "                    if (x < p[0] < x+side_length) and (y < p[1] < y + side_length):\n",
    "                        self.coreSet_array.append(p)\n",
    "                        break\n",
    "\n",
    "                #Advance to next cell\n",
    "                y += side_length\n",
    "            \n",
    "            x += side_length\n",
    "\n",
    "        return self.coreSet_array\n",
    "\n",
    "\n",
    "    #Get min and max values of x and y\n",
    "    def get_minMax_xy(self):\n",
    "        min_X = np.amin(self.x_array, axis=0)[0]\n",
    "        min_Y = np.amin(self.x_array, axis=0)[1]\n",
    "        max_X = np.amax(self.x_array, axis=0)[0]\n",
    "        max_Y = np.amax(self.x_array, axis=0)[1]\n",
    "\n",
    "        return min_X, min_Y, max_X, max_Y\n",
    "\n",
    "\n",
    "\n",
    "    #Compute the k,epsilon center coreset\n",
    "    def compute_kCenter_Coreset(self):\n",
    "        startTime = time.time()\n",
    "        print(\"----------------------------------------------------------------------------------------------\")\n",
    "        print(\"Computing k-center Coreset for k={}, epsilon={}, d={}\".format(self.k, self.epsilon, self.dims))\n",
    "\n",
    "        self.greedy_kcenter()\n",
    "\n",
    "        self.compute_d_grid()\n",
    "        self.plot2D_coreset()\n",
    "\n",
    "\n",
    "        print(\"----------------------------------------------------------------------------------------------\")\n",
    "        print(\"Generated (k,epsilon) Center Coreset of size={} on Input dimensions={}\".format(len(self.coreSet_array), self.x_array.shape))\n",
    "        \n",
    "        runTime = time.time() - startTime\n",
    "        print(\"Coreset computation time = {:.1f} seconds\".format(runTime))\n",
    "\n",
    "        return self.coreSet_array\n",
    "    \n",
    "    "
   ]
  },
  {
   "cell_type": "code",
   "execution_count": null,
   "metadata": {},
   "outputs": [],
   "source": []
  },
  {
   "cell_type": "code",
   "execution_count": 3,
   "metadata": {},
   "outputs": [],
   "source": [
    "#Test on synthetic random data\n",
    "x_arr = []\n",
    "for i in range(1000):\n",
    "    x_val, y_val = np.random.randint(-100,101), np.random.randint(-100,101)\n",
    "    x_arr.append([x_val, y_val])"
   ]
  },
  {
   "cell_type": "code",
   "execution_count": 7,
   "metadata": {},
   "outputs": [],
   "source": [
    "test_kcenter = Coreset_kCenter(x_arr, 15, 0.3)"
   ]
  },
  {
   "cell_type": "code",
   "execution_count": 8,
   "metadata": {},
   "outputs": [
    {
     "name": "stdout",
     "output_type": "stream",
     "text": [
      "----------------------------------------------------------------------------------------------\n",
      "Computing k-center Coreset for k=15, epsilon=0.3, d=2\n",
      "Epsilon = 0.3, R_Cost = 44.10215414239989, Dimensions = 2\n",
      "d-dimensional grid side_length =  1.3230646242719968\n"
     ]
    },
    {
     "data": {
      "image/png": "[encoded data removed]",
      "text/plain": [
       "<Figure size 576x576 with 1 Axes>"
      ]
     },
     "metadata": {
      "needs_background": "light"
     },
     "output_type": "display_data"
    },
    {
     "name": "stdout",
     "output_type": "stream",
     "text": [
      "----------------------------------------------------------------------------------------------\n",
      "Generated (k,epsilon) Center Coreset of size=949 on Input dimensions=(1000, 2)\n",
      "Coreset computation time = 23.8 seconds\n"
     ]
    }
   ],
   "source": [
    "test_coreset = test_kcenter.compute_kCenter_Coreset()"
   ]
  },
  {
   "cell_type": "code",
   "execution_count": null,
   "metadata": {},
   "outputs": [],
   "source": []
  },
  {
   "cell_type": "code",
   "execution_count": null,
   "metadata": {},
   "outputs": [],
   "source": []
  },
  {
   "cell_type": "code",
   "execution_count": null,
   "metadata": {},
   "outputs": [],
   "source": []
  }
 ],
 "metadata": {
  "interpreter": {
   "hash": "916dbcbb3f70747c44a77c7bcd40155683ae19c65e1c03b4aa3499c5328201f1"
  },
  "kernelspec": {
   "display_name": "Python 3.8.10 64-bit",
   "language": "python",
   "name": "python3"
  },
  "language_info": {
   "codemirror_mode": {
    "name": "ipython",
    "version": 3
   },
   "file_extension": ".py",
   "mimetype": "text/x-python",
   "name": "python",
   "nbconvert_exporter": "python",
   "pygments_lexer": "ipython3",
   "version": "3.8.10"
  },
  "orig_nbformat": 4
 },
 "nbformat": 4,
 "nbformat_minor": 2
}
