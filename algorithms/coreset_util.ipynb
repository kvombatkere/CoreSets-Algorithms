{
 "cells": [
  {
   "cell_type": "code",
   "execution_count": 1,
   "metadata": {},
   "outputs": [],
   "source": [
    "## Coreset Util\n",
    "## Karan Vombatkere, Dec 2021\n",
    "\n",
    "import pandas as pd\n",
    "import numpy as np\n",
    "\n",
    "class Coreset_Util:\n",
    "    \"\"\"\n",
    "    Class for Coreset Utility functions to import, preprocess data. Only float64, int64 data is currently supported\n",
    "    Parameters\n",
    "    ----------\n",
    "        datasetName : The data set name to generate coreset from.\n",
    "                        Note that the dataset csv must be saved in the data folder\n",
    "        columnNames :  List of column names to use from dataset, optional\n",
    "    ----------\n",
    "    Coreset_Util.X_array contains the formatted ndarray \n",
    "    \"\"\"\n",
    "\n",
    "    #Initialize with dataset name\n",
    "    def __init__(self, datasetName, columnNames=None):\n",
    "        self.dataframe = self.importData(datasetName)\n",
    "        if columnNames != None:\n",
    "            self.subsetColumns(columnNames)\n",
    "        \n",
    "        self.X_array = self.convertToArray()\n",
    "    \n",
    "    #Use Pandas to import dataset\n",
    "    def importData(self, fileName):\n",
    "        filePath = 'data/'+fileName\n",
    "        importedData = pd.read_csv(filePath)\n",
    "\n",
    "        print('Imported dataset:', fileName)\n",
    "        return importedData\n",
    "\n",
    "    #Specify subset of columns to use\n",
    "    def subsetColumns(self, columnList):\n",
    "        print('Subsetting Dataset to columns:', columnList)\n",
    "        self.dataframe = self.dataframe[columnList]\n",
    "        return None\n",
    "\n",
    "    #Convert data to Numpy array\n",
    "    def convertToArray(self):\n",
    "        #Select only numerical columns\n",
    "        numerical_dataframe = self.dataframe.select_dtypes(include=['float64', 'int64'])\n",
    "        x_vals = numerical_dataframe.to_numpy()\n",
    "        return x_vals\n",
    "\n",
    "    def generate_Random2DArr(self, size):\n",
    "        random_2D_vector = []\n",
    "        for i in range(size):\n",
    "            x_val, y_val = np.random.randint(-100,101), np.random.randint(-100,101)\n",
    "            random_2D_vector.append([x_val, y_val])\n",
    "\n",
    "        return random_2D_vector\n",
    "        "
   ]
  }
 ],
 "metadata": {
  "interpreter": {
   "hash": "916dbcbb3f70747c44a77c7bcd40155683ae19c65e1c03b4aa3499c5328201f1"
  },
  "kernelspec": {
   "display_name": "Python 3.8.10 64-bit",
   "language": "python",
   "name": "python3"
  },
  "language_info": {
   "codemirror_mode": {
    "name": "ipython",
    "version": 3
   },
   "file_extension": ".py",
   "mimetype": "text/x-python",
   "name": "python",
   "nbconvert_exporter": "python",
   "pygments_lexer": "ipython3",
   "version": "3.8.10"
  },
  "orig_nbformat": 4
 },
 "nbformat": 4,
 "nbformat_minor": 2
}
