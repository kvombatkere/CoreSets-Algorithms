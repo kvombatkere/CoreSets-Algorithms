{
 "cells": [
  {
   "cell_type": "code",
   "execution_count": 1,
   "id": "896df7c3",
   "metadata": {},
   "outputs": [],
   "source": [
    "from coreset_streaming import Coreset_Streaming\n",
    "import numpy as np\n",
    "import random "
   ]
  },
  {
   "cell_type": "code",
   "execution_count": 3,
   "id": "d1fd06dc",
   "metadata": {},
   "outputs": [],
   "source": [
    "a = Coreset_Streaming(10000)\n",
    "b = Coreset_Streaming(10000)"
   ]
  },
  {
   "cell_type": "code",
   "execution_count": 4,
   "id": "e03526fa",
   "metadata": {},
   "outputs": [],
   "source": [
    "def add_n_points_to_cs(cs, n, r):\n",
    "    \"\"\" Args:\n",
    "            cs: coreset\n",
    "            n: number of points to add\n",
    "            r: range from 0 to r (inclusive) to sample from\n",
    "    \"\"\"\n",
    "    points = []\n",
    "    for i in range(n):\n",
    "        point = [random.randint(0, r), random.randint(0,r)]\n",
    "        cs.add_point(point)"
   ]
  },
  {
   "cell_type": "code",
   "execution_count": 5,
   "id": "aa9d8d38",
   "metadata": {},
   "outputs": [],
   "source": [
    "n = 100\n",
    "r = 50\n",
    "add_n_points_to_cs(a, n, r)\n",
    "add_n_points_to_cs(b, n, r)"
   ]
  },
  {
   "cell_type": "code",
   "execution_count": 6,
   "id": "0561a2ac",
   "metadata": {},
   "outputs": [],
   "source": [
    "a.build_coreset()"
   ]
  },
  {
   "cell_type": "code",
   "execution_count": 7,
   "id": "1fc68b69",
   "metadata": {},
   "outputs": [],
   "source": [
    "b.build_coreset()"
   ]
  },
  {
   "cell_type": "code",
   "execution_count": 8,
   "id": "703c3952",
   "metadata": {
    "scrolled": true
   },
   "outputs": [
    {
     "data": {
      "text/plain": [
       "[([5, 16], 1),\n",
       " ([7, 5], 1),\n",
       " ([15, 32], 1),\n",
       " ([27, 27], 2),\n",
       " ([33, 23], 1),\n",
       " ([6, 42], 1),\n",
       " ([44, 17], 1),\n",
       " ([4, 28], 1),\n",
       " ([11, 34], 1),\n",
       " ([30, 36], 1),\n",
       " ([10, 2], 1),\n",
       " ([50, 3], 1),\n",
       " ([42, 35], 1),\n",
       " ([44, 32], 1),\n",
       " ([23, 5], 1),\n",
       " ([22, 26], 1),\n",
       " ([43, 15], 1),\n",
       " ([46, 22], 1),\n",
       " ([20, 5], 1),\n",
       " ([2, 13], 1),\n",
       " ([22, 33], 1),\n",
       " ([16, 22], 1),\n",
       " ([29, 6], 1),\n",
       " ([48, 32], 1),\n",
       " ([22, 22], 1),\n",
       " ([35, 27], 1),\n",
       " ([20, 22], 1),\n",
       " ([25, 3], 1),\n",
       " ([4, 25], 1),\n",
       " ([46, 30], 1),\n",
       " ([49, 39], 1),\n",
       " ([43, 38], 1),\n",
       " ([39, 6], 1),\n",
       " ([36, 48], 1),\n",
       " ([16, 12], 2),\n",
       " ([41, 4], 1),\n",
       " ([3, 16], 1),\n",
       " ([8, 35], 2),\n",
       " ([41, 18], 1),\n",
       " ([45, 27], 1),\n",
       " ([39, 21], 2),\n",
       " ([24, 30], 1),\n",
       " ([10, 12], 1),\n",
       " ([11, 32], 2),\n",
       " ([39, 38], 1),\n",
       " ([37, 5], 1),\n",
       " ([30, 42], 1),\n",
       " ([13, 17], 1),\n",
       " ([12, 38], 1),\n",
       " ([40, 26], 1),\n",
       " ([27, 21], 1),\n",
       " ([44, 21], 1),\n",
       " ([13, 24], 1),\n",
       " ([47, 19], 1),\n",
       " ([6, 20], 1),\n",
       " ([18, 7], 1),\n",
       " ([0, 14], 1),\n",
       " ([20, 40], 1),\n",
       " ([7, 23], 1),\n",
       " ([36, 26], 1),\n",
       " ([32, 24], 1),\n",
       " ([24, 47], 1),\n",
       " ([37, 36], 1),\n",
       " ([19, 15], 1),\n",
       " ([0, 41], 1),\n",
       " ([28, 19], 1),\n",
       " ([43, 47], 1),\n",
       " ([33, 30], 1),\n",
       " ([33, 40], 1),\n",
       " ([11, 41], 1),\n",
       " ([5, 46], 1),\n",
       " ([47, 20], 1),\n",
       " ([31, 48], 1),\n",
       " ([48, 29], 1),\n",
       " ([21, 14], 1),\n",
       " ([45, 41], 1),\n",
       " ([36, 31], 1),\n",
       " ([39, 25], 1),\n",
       " ([47, 16], 1),\n",
       " ([40, 35], 1),\n",
       " ([35, 1], 1),\n",
       " ([35, 41], 1),\n",
       " ([39, 22], 1),\n",
       " ([28, 36], 1),\n",
       " ([5, 40], 1),\n",
       " ([17, 14], 1),\n",
       " ([12, 36], 1),\n",
       " ([22, 29], 1),\n",
       " ([44, 9], 1),\n",
       " ([33, 11], 1),\n",
       " ([25, 32], 1),\n",
       " ([11, 14], 1),\n",
       " ([23, 11], 1),\n",
       " ([48, 20], 1),\n",
       " ([18, 2], 1)]"
      ]
     },
     "execution_count": 8,
     "metadata": {},
     "output_type": "execute_result"
    }
   ],
   "source": [
    "a.coreset"
   ]
  },
  {
   "cell_type": "code",
   "execution_count": 9,
   "id": "be70ea85",
   "metadata": {},
   "outputs": [
    {
     "data": {
      "text/plain": [
       "95"
      ]
     },
     "execution_count": 9,
     "metadata": {},
     "output_type": "execute_result"
    }
   ],
   "source": [
    "len(a.coreset)"
   ]
  },
  {
   "cell_type": "code",
   "execution_count": 10,
   "id": "8e28318f",
   "metadata": {
    "scrolled": true
   },
   "outputs": [
    {
     "data": {
      "text/plain": [
       "[([42, 43], 1),\n",
       " ([0, 0], 1),\n",
       " ([22, 7], 2),\n",
       " ([37, 23], 1),\n",
       " ([0, 15], 1),\n",
       " ([3, 42], 1),\n",
       " ([22, 33], 1),\n",
       " ([18, 45], 1),\n",
       " ([1, 3], 1),\n",
       " ([43, 22], 1),\n",
       " ([26, 38], 1),\n",
       " ([2, 36], 1),\n",
       " ([0, 50], 1),\n",
       " ([27, 44], 1),\n",
       " ([36, 50], 1),\n",
       " ([9, 45], 1),\n",
       " ([27, 2], 1),\n",
       " ([28, 23], 1),\n",
       " ([47, 47], 1),\n",
       " ([12, 5], 1),\n",
       " ([34, 30], 1),\n",
       " ([33, 15], 2),\n",
       " ([34, 40], 1),\n",
       " ([13, 13], 1),\n",
       " ([12, 22], 1),\n",
       " ([32, 31], 1),\n",
       " ([19, 22], 1),\n",
       " ([16, 8], 1),\n",
       " ([40, 39], 2),\n",
       " ([16, 43], 1),\n",
       " ([25, 33], 1),\n",
       " ([48, 19], 1),\n",
       " ([6, 4], 1),\n",
       " ([40, 34], 1),\n",
       " ([46, 13], 1),\n",
       " ([27, 40], 2),\n",
       " ([33, 34], 1),\n",
       " ([5, 15], 1),\n",
       " ([36, 43], 2),\n",
       " ([11, 20], 1),\n",
       " ([40, 15], 1),\n",
       " ([31, 17], 1),\n",
       " ([5, 1], 1),\n",
       " ([46, 10], 1),\n",
       " ([38, 22], 1),\n",
       " ([32, 1], 2),\n",
       " ([42, 10], 1),\n",
       " ([48, 10], 1),\n",
       " ([35, 11], 1),\n",
       " ([20, 48], 1),\n",
       " ([39, 11], 1),\n",
       " ([49, 45], 1),\n",
       " ([6, 50], 1),\n",
       " ([17, 17], 1),\n",
       " ([49, 14], 1),\n",
       " ([41, 48], 1),\n",
       " ([22, 8], 1),\n",
       " ([26, 18], 1),\n",
       " ([4, 27], 1),\n",
       " ([31, 11], 1),\n",
       " ([45, 46], 2),\n",
       " ([16, 45], 1),\n",
       " ([45, 6], 1),\n",
       " ([11, 41], 1),\n",
       " ([9, 22], 1),\n",
       " ([27, 7], 1),\n",
       " ([14, 10], 1),\n",
       " ([25, 40], 1),\n",
       " ([11, 8], 1),\n",
       " ([5, 35], 1),\n",
       " ([3, 1], 1),\n",
       " ([7, 43], 1),\n",
       " ([5, 49], 1),\n",
       " ([8, 33], 1),\n",
       " ([50, 33], 1),\n",
       " ([20, 20], 1),\n",
       " ([17, 50], 1),\n",
       " ([8, 3], 1),\n",
       " ([36, 27], 1),\n",
       " ([13, 17], 1),\n",
       " ([19, 34], 1),\n",
       " ([22, 30], 1),\n",
       " ([46, 17], 1),\n",
       " ([26, 13], 1),\n",
       " ([2, 30], 1),\n",
       " ([20, 7], 1),\n",
       " ([22, 4], 1),\n",
       " ([0, 33], 1),\n",
       " ([27, 48], 1),\n",
       " ([31, 23], 1),\n",
       " ([6, 49], 1),\n",
       " ([6, 21], 1),\n",
       " ([4, 20], 1)]"
      ]
     },
     "execution_count": 10,
     "metadata": {},
     "output_type": "execute_result"
    }
   ],
   "source": [
    "b.coreset"
   ]
  },
  {
   "cell_type": "code",
   "execution_count": 11,
   "id": "71b63d39",
   "metadata": {},
   "outputs": [
    {
     "data": {
      "text/plain": [
       "93"
      ]
     },
     "execution_count": 11,
     "metadata": {},
     "output_type": "execute_result"
    }
   ],
   "source": [
    "len(b.coreset)"
   ]
  },
  {
   "cell_type": "code",
   "execution_count": 12,
   "id": "e81abff8",
   "metadata": {},
   "outputs": [
    {
     "data": {
      "text/plain": [
       "True"
      ]
     },
     "execution_count": 12,
     "metadata": {},
     "output_type": "execute_result"
    }
   ],
   "source": [
    "a.can_union(b)"
   ]
  },
  {
   "cell_type": "code",
   "execution_count": 13,
   "id": "29da3f60",
   "metadata": {},
   "outputs": [],
   "source": [
    "a.union(b)"
   ]
  },
  {
   "cell_type": "code",
   "execution_count": 14,
   "id": "0297176a",
   "metadata": {
    "scrolled": true
   },
   "outputs": [
    {
     "data": {
      "text/plain": [
       "[([5, 16], 1),\n",
       " ([6, 4], 2),\n",
       " ([15, 32], 1),\n",
       " ([27, 27], 2),\n",
       " ([33, 23], 1),\n",
       " ([6, 42], 2),\n",
       " ([44, 17], 1),\n",
       " ([4, 28], 1),\n",
       " ([11, 34], 1),\n",
       " ([30, 36], 1),\n",
       " ([10, 2], 1),\n",
       " ([50, 3], 1),\n",
       " ([42, 35], 1),\n",
       " ([44, 32], 1),\n",
       " ([22, 4], 2),\n",
       " ([22, 26], 1),\n",
       " ([43, 15], 1),\n",
       " ([46, 22], 1),\n",
       " ([20, 5], 1),\n",
       " ([2, 13], 1),\n",
       " ([22, 33], 2),\n",
       " ([16, 22], 1),\n",
       " ([29, 6], 1),\n",
       " ([48, 32], 1),\n",
       " ([22, 22], 1),\n",
       " ([35, 27], 1),\n",
       " ([20, 22], 1),\n",
       " ([25, 3], 1),\n",
       " ([4, 25], 1),\n",
       " ([46, 30], 1),\n",
       " ([49, 39], 1),\n",
       " ([43, 38], 1),\n",
       " ([39, 6], 1),\n",
       " ([36, 48], 1),\n",
       " ([16, 12], 2),\n",
       " ([41, 4], 1),\n",
       " ([3, 16], 1),\n",
       " ([8, 35], 2),\n",
       " ([41, 18], 1),\n",
       " ([45, 27], 1),\n",
       " ([39, 21], 2),\n",
       " ([24, 30], 1),\n",
       " ([10, 12], 1),\n",
       " ([11, 32], 2),\n",
       " ([39, 38], 1),\n",
       " ([37, 5], 1),\n",
       " ([30, 42], 1),\n",
       " ([13, 17], 2),\n",
       " ([12, 38], 1),\n",
       " ([40, 26], 1),\n",
       " ([27, 21], 1),\n",
       " ([44, 21], 1),\n",
       " ([13, 24], 1),\n",
       " ([47, 19], 1),\n",
       " ([6, 20], 2),\n",
       " ([18, 7], 1),\n",
       " ([0, 15], 2),\n",
       " ([20, 40], 1),\n",
       " ([7, 23], 1),\n",
       " ([36, 26], 2),\n",
       " ([32, 24], 1),\n",
       " ([24, 47], 1),\n",
       " ([37, 36], 1),\n",
       " ([19, 15], 1),\n",
       " ([0, 41], 1),\n",
       " ([28, 19], 1),\n",
       " ([43, 47], 1),\n",
       " ([32, 31], 2),\n",
       " ([33, 40], 1),\n",
       " ([11, 41], 2),\n",
       " ([5, 46], 1),\n",
       " ([47, 20], 1),\n",
       " ([31, 48], 1),\n",
       " ([48, 29], 1),\n",
       " ([21, 14], 1),\n",
       " ([45, 41], 1),\n",
       " ([36, 31], 1),\n",
       " ([39, 25], 1),\n",
       " ([46, 17], 2),\n",
       " ([40, 34], 2),\n",
       " ([35, 1], 1),\n",
       " ([34, 40], 2),\n",
       " ([39, 22], 2),\n",
       " ([28, 36], 1),\n",
       " ([5, 40], 1),\n",
       " ([17, 14], 1),\n",
       " ([12, 36], 1),\n",
       " ([22, 29], 1),\n",
       " ([44, 9], 1),\n",
       " ([33, 11], 1),\n",
       " ([25, 32], 2),\n",
       " ([11, 14], 1),\n",
       " ([23, 11], 1),\n",
       " ([48, 20], 1),\n",
       " ([18, 2], 1),\n",
       " ([42, 43], 1),\n",
       " ([0, 0], 1),\n",
       " ([22, 7], 2),\n",
       " ([37, 23], 1),\n",
       " ([3, 42], 1),\n",
       " ([18, 45], 1),\n",
       " ([1, 3], 1),\n",
       " ([43, 22], 1),\n",
       " ([26, 38], 1),\n",
       " ([2, 36], 1),\n",
       " ([0, 50], 1),\n",
       " ([27, 44], 1),\n",
       " ([36, 50], 1),\n",
       " ([9, 45], 1),\n",
       " ([27, 2], 1),\n",
       " ([28, 23], 1),\n",
       " ([47, 47], 1),\n",
       " ([12, 5], 1),\n",
       " ([34, 30], 1),\n",
       " ([33, 15], 2),\n",
       " ([13, 13], 1),\n",
       " ([12, 22], 1),\n",
       " ([19, 22], 1),\n",
       " ([16, 8], 1),\n",
       " ([40, 39], 2),\n",
       " ([16, 43], 1),\n",
       " ([48, 19], 1),\n",
       " ([46, 13], 1),\n",
       " ([27, 40], 2),\n",
       " ([33, 34], 1),\n",
       " ([5, 15], 1),\n",
       " ([36, 43], 2),\n",
       " ([11, 20], 1),\n",
       " ([40, 15], 1),\n",
       " ([31, 17], 1),\n",
       " ([5, 1], 1),\n",
       " ([46, 10], 1),\n",
       " ([32, 1], 2),\n",
       " ([42, 10], 1),\n",
       " ([48, 10], 1),\n",
       " ([35, 11], 1),\n",
       " ([20, 48], 1),\n",
       " ([39, 11], 1),\n",
       " ([49, 45], 1),\n",
       " ([6, 50], 1),\n",
       " ([17, 17], 1),\n",
       " ([49, 14], 1),\n",
       " ([41, 48], 1),\n",
       " ([22, 8], 1),\n",
       " ([26, 18], 1),\n",
       " ([4, 27], 1),\n",
       " ([31, 11], 1),\n",
       " ([45, 46], 2),\n",
       " ([16, 45], 1),\n",
       " ([45, 6], 1),\n",
       " ([9, 22], 1),\n",
       " ([27, 7], 1),\n",
       " ([14, 10], 1),\n",
       " ([25, 40], 1),\n",
       " ([11, 8], 1),\n",
       " ([5, 35], 1),\n",
       " ([3, 1], 1),\n",
       " ([5, 49], 1),\n",
       " ([8, 33], 1),\n",
       " ([50, 33], 1),\n",
       " ([20, 20], 1),\n",
       " ([17, 50], 1),\n",
       " ([8, 3], 1),\n",
       " ([19, 34], 1),\n",
       " ([22, 30], 1),\n",
       " ([26, 13], 1),\n",
       " ([2, 30], 1),\n",
       " ([20, 7], 1),\n",
       " ([0, 33], 1),\n",
       " ([27, 48], 1),\n",
       " ([31, 23], 1),\n",
       " ([6, 49], 1),\n",
       " ([4, 20], 1)]"
      ]
     },
     "execution_count": 14,
     "metadata": {},
     "output_type": "execute_result"
    }
   ],
   "source": [
    "a.coreset"
   ]
  },
  {
   "cell_type": "code",
   "execution_count": 15,
   "id": "37bd3ca8",
   "metadata": {},
   "outputs": [
    {
     "data": {
      "text/plain": [
       "173"
      ]
     },
     "execution_count": 15,
     "metadata": {},
     "output_type": "execute_result"
    }
   ],
   "source": [
    "len(a.coreset)"
   ]
  },
  {
   "cell_type": "code",
   "execution_count": 16,
   "id": "e44c7da1",
   "metadata": {},
   "outputs": [],
   "source": [
    "#Test data\n",
    "x_arr = []\n",
    "data_size = 10000\n",
    "chunk_size = 1000\n",
    "for i in range(10000):\n",
    "    x_val, y_val = np.random.randint(0,100), np.random.randint(0,100)\n",
    "    x_arr.append([x_val, y_val])"
   ]
  },
  {
   "cell_type": "code",
   "execution_count": 51,
   "id": "14b5cbfa",
   "metadata": {},
   "outputs": [],
   "source": [
    "a = Coreset_Streaming(data_size)\n",
    "b = Coreset_Streaming(data_size)\n",
    "\n",
    "# first add first chunk to a\n",
    "for i in range(chunk_size):\n",
    "    a.add_point(x_arr[i])\n",
    "    \n",
    "counter = 1\n",
    "for i in range(chunk_size+1, len(x_arr)):\n",
    "    b.add_point(x_arr[i])\n",
    "    \n",
    "    if counter % chunk_size == 0:\n",
    "        if a.can_union(b):\n",
    "            a.union(b)\n",
    "            b = Coreset_Streaming(data_size)\n",
    "        else:\n",
    "            while not a.can_union(b):\n",
    "                # will the resolution of b ever be more than that of a?\n",
    "                if a.resolution > b.resolution:\n",
    "                    b.double_resolution()\n",
    "                else:\n",
    "                    a.double_resolution()\n",
    "    counter += 1        \n",
    "    "
   ]
  },
  {
   "cell_type": "code",
   "execution_count": 52,
   "id": "ac616781",
   "metadata": {},
   "outputs": [
    {
     "data": {
      "text/plain": [
       "2445"
      ]
     },
     "execution_count": 52,
     "metadata": {},
     "output_type": "execute_result"
    }
   ],
   "source": [
    "len(a.coreset)"
   ]
  },
  {
   "cell_type": "code",
   "execution_count": 53,
   "id": "72910d73",
   "metadata": {},
   "outputs": [
    {
     "data": {
      "text/plain": [
       "999"
      ]
     },
     "execution_count": 53,
     "metadata": {},
     "output_type": "execute_result"
    }
   ],
   "source": [
    "len(b.coreset)"
   ]
  },
  {
   "cell_type": "code",
   "execution_count": 54,
   "id": "6f3a5c94",
   "metadata": {},
   "outputs": [
    {
     "data": {
      "text/plain": [
       "9000"
      ]
     },
     "execution_count": 54,
     "metadata": {},
     "output_type": "execute_result"
    }
   ],
   "source": [
    "counter"
   ]
  },
  {
   "cell_type": "code",
   "execution_count": 28,
   "id": "842eb298",
   "metadata": {},
   "outputs": [],
   "source": [
    "a = Coreset_Streaming(data_size)\n",
    "b = Coreset_Streaming(data_size)"
   ]
  },
  {
   "cell_type": "code",
   "execution_count": null,
   "id": "b346018a",
   "metadata": {},
   "outputs": [],
   "source": []
  }
 ],
 "metadata": {
  "kernelspec": {
   "display_name": "Python 3 (ipykernel)",
   "language": "python",
   "name": "python3"
  },
  "language_info": {
   "codemirror_mode": {
    "name": "ipython",
    "version": 3
   },
   "file_extension": ".py",
   "mimetype": "text/x-python",
   "name": "python",
   "nbconvert_exporter": "python",
   "pygments_lexer": "ipython3",
   "version": "3.9.7"
  }
 },
 "nbformat": 4,
 "nbformat_minor": 5
}
