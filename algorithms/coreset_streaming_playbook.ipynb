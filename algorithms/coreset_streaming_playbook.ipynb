{
 "cells": [
  {
   "cell_type": "code",
   "execution_count": 2,
   "id": "69fbaedc",
   "metadata": {},
   "outputs": [],
   "source": [
    "from coreset_streaming import Coreset_Streaming\n",
    "import numpy as np\n",
    "import random \n",
    "import matplotlib.pyplot as plt"
   ]
  },
  {
   "cell_type": "code",
   "execution_count": 3,
   "id": "85c5dc97",
   "metadata": {},
   "outputs": [],
   "source": [
    "a = Coreset_Streaming(10000)\n",
    "b = Coreset_Streaming(10000)"
   ]
  },
  {
   "cell_type": "code",
   "execution_count": 4,
   "id": "f1d6f8e3",
   "metadata": {},
   "outputs": [],
   "source": [
    "def add_n_points_to_cs(cs, n, r):\n",
    "    \"\"\" Args:\n",
    "            cs: coreset\n",
    "            n: number of points to add\n",
    "            r: range from 0 to r (inclusive) to sample from\n",
    "    \"\"\"\n",
    "    points = []\n",
    "    for i in range(n):\n",
    "        point = [random.randint(0, r), random.randint(0,r)]\n",
    "        cs.add_point(point)"
   ]
  },
  {
   "cell_type": "code",
   "execution_count": 5,
   "id": "4c787d47",
   "metadata": {},
   "outputs": [],
   "source": [
    "n = 100\n",
    "r = 50\n",
    "add_n_points_to_cs(a, n, r)\n",
    "add_n_points_to_cs(b, n, r)"
   ]
  },
  {
   "cell_type": "code",
   "execution_count": 6,
   "id": "18123669",
   "metadata": {},
   "outputs": [],
   "source": [
    "a.build_coreset()"
   ]
  },
  {
   "cell_type": "code",
   "execution_count": 7,
   "id": "3c02c11b",
   "metadata": {},
   "outputs": [],
   "source": [
    "b.build_coreset()"
   ]
  },
  {
   "cell_type": "code",
   "execution_count": 8,
   "id": "34d9589e",
   "metadata": {
    "scrolled": true
   },
   "outputs": [
    {
     "data": {
      "text/plain": [
       "[([44, 30], 1),\n",
       " ([22, 49], 2),\n",
       " ([32, 19], 1),\n",
       " ([31, 23], 1),\n",
       " ([25, 40], 1),\n",
       " ([1, 29], 1),\n",
       " ([43, 32], 1),\n",
       " ([35, 28], 2),\n",
       " ([18, 32], 1),\n",
       " ([16, 41], 1),\n",
       " ([14, 0], 1),\n",
       " ([31, 32], 1),\n",
       " ([14, 18], 1),\n",
       " ([5, 48], 1),\n",
       " ([3, 20], 1),\n",
       " ([10, 42], 1),\n",
       " ([40, 29], 1),\n",
       " ([36, 32], 1),\n",
       " ([28, 21], 1),\n",
       " ([28, 6], 1),\n",
       " ([23, 11], 1),\n",
       " ([42, 12], 1),\n",
       " ([5, 12], 1),\n",
       " ([38, 49], 2),\n",
       " ([26, 32], 2),\n",
       " ([23, 18], 1),\n",
       " ([49, 35], 1),\n",
       " ([31, 27], 2),\n",
       " ([21, 41], 1),\n",
       " ([45, 14], 1),\n",
       " ([24, 16], 1),\n",
       " ([30, 41], 1),\n",
       " ([42, 36], 1),\n",
       " ([9, 27], 1),\n",
       " ([20, 6], 2),\n",
       " ([30, 4], 1),\n",
       " ([31, 1], 1),\n",
       " ([28, 36], 1),\n",
       " ([0, 15], 1),\n",
       " ([17, 8], 1),\n",
       " ([24, 0], 1),\n",
       " ([8, 32], 1),\n",
       " ([6, 33], 1),\n",
       " ([27, 15], 1),\n",
       " ([20, 24], 1),\n",
       " ([12, 19], 2),\n",
       " ([18, 13], 1),\n",
       " ([34, 4], 1),\n",
       " ([5, 45], 1),\n",
       " ([15, 4], 1),\n",
       " ([11, 6], 1),\n",
       " ([43, 10], 1),\n",
       " ([31, 18], 1),\n",
       " ([39, 45], 1),\n",
       " ([13, 49], 1),\n",
       " ([41, 50], 1),\n",
       " ([49, 31], 1),\n",
       " ([19, 48], 1),\n",
       " ([42, 31], 1),\n",
       " ([6, 50], 1),\n",
       " ([47, 17], 1),\n",
       " ([42, 28], 1),\n",
       " ([36, 28], 1),\n",
       " ([49, 48], 1),\n",
       " ([34, 10], 1),\n",
       " ([36, 37], 1),\n",
       " ([48, 36], 1),\n",
       " ([46, 20], 1),\n",
       " ([24, 29], 1),\n",
       " ([19, 36], 1),\n",
       " ([0, 49], 1),\n",
       " ([41, 25], 1),\n",
       " ([3, 16], 1),\n",
       " ([16, 15], 1),\n",
       " ([49, 19], 1),\n",
       " ([22, 23], 1),\n",
       " ([47, 19], 1),\n",
       " ([44, 35], 1),\n",
       " ([17, 5], 1),\n",
       " ([30, 2], 1),\n",
       " ([19, 47], 1),\n",
       " ([9, 6], 1),\n",
       " ([41, 33], 1),\n",
       " ([26, 0], 1),\n",
       " ([0, 33], 1),\n",
       " ([16, 12], 1),\n",
       " ([21, 13], 1),\n",
       " ([21, 19], 1),\n",
       " ([11, 8], 1),\n",
       " ([39, 14], 1),\n",
       " ([25, 20], 1),\n",
       " ([6, 41], 1),\n",
       " ([11, 24], 1)]"
      ]
     },
     "execution_count": 8,
     "metadata": {},
     "output_type": "execute_result"
    }
   ],
   "source": [
    "a.coreset"
   ]
  },
  {
   "cell_type": "code",
   "execution_count": 9,
   "id": "8d01731e",
   "metadata": {},
   "outputs": [
    {
     "data": {
      "text/plain": [
       "93"
      ]
     },
     "execution_count": 9,
     "metadata": {},
     "output_type": "execute_result"
    }
   ],
   "source": [
    "len(a.coreset)"
   ]
  },
  {
   "cell_type": "code",
   "execution_count": 10,
   "id": "73eeb990",
   "metadata": {
    "scrolled": true
   },
   "outputs": [
    {
     "data": {
      "text/plain": [
       "[([33, 25], 1),\n",
       " ([19, 16], 1),\n",
       " ([7, 38], 1),\n",
       " ([10, 17], 2),\n",
       " ([23, 9], 1),\n",
       " ([36, 6], 1),\n",
       " ([1, 1], 1),\n",
       " ([10, 18], 1),\n",
       " ([17, 47], 2),\n",
       " ([22, 45], 1),\n",
       " ([33, 0], 1),\n",
       " ([36, 27], 1),\n",
       " ([37, 28], 1),\n",
       " ([36, 10], 1),\n",
       " ([15, 39], 1),\n",
       " ([7, 32], 1),\n",
       " ([16, 25], 1),\n",
       " ([43, 23], 1),\n",
       " ([50, 49], 2),\n",
       " ([29, 5], 1),\n",
       " ([30, 40], 1),\n",
       " ([26, 9], 1),\n",
       " ([5, 7], 1),\n",
       " ([43, 20], 2),\n",
       " ([41, 4], 1),\n",
       " ([18, 21], 1),\n",
       " ([24, 11], 1),\n",
       " ([8, 50], 1),\n",
       " ([32, 38], 1),\n",
       " ([24, 42], 1),\n",
       " ([30, 46], 1),\n",
       " ([48, 47], 1),\n",
       " ([31, 16], 1),\n",
       " ([28, 15], 1),\n",
       " ([6, 46], 1),\n",
       " ([42, 10], 1),\n",
       " ([17, 1], 1),\n",
       " ([9, 29], 1),\n",
       " ([29, 1], 1),\n",
       " ([28, 44], 1),\n",
       " ([30, 6], 1),\n",
       " ([45, 35], 1),\n",
       " ([7, 13], 1),\n",
       " ([31, 29], 1),\n",
       " ([45, 17], 1),\n",
       " ([48, 10], 1),\n",
       " ([40, 13], 1),\n",
       " ([35, 31], 1),\n",
       " ([15, 31], 1),\n",
       " ([34, 12], 1),\n",
       " ([7, 25], 1),\n",
       " ([14, 44], 1),\n",
       " ([20, 18], 1),\n",
       " ([11, 29], 1),\n",
       " ([34, 17], 2),\n",
       " ([1, 2], 1),\n",
       " ([47, 18], 1),\n",
       " ([46, 33], 1),\n",
       " ([33, 33], 1),\n",
       " ([47, 34], 1),\n",
       " ([49, 32], 1),\n",
       " ([8, 0], 1),\n",
       " ([49, 27], 1),\n",
       " ([12, 32], 1),\n",
       " ([11, 25], 1),\n",
       " ([19, 43], 1),\n",
       " ([8, 8], 1),\n",
       " ([49, 6], 1),\n",
       " ([47, 27], 1),\n",
       " ([5, 14], 1),\n",
       " ([34, 39], 1),\n",
       " ([14, 0], 1),\n",
       " ([5, 23], 1),\n",
       " ([37, 39], 1),\n",
       " ([17, 42], 1),\n",
       " ([48, 31], 1),\n",
       " ([1, 18], 1),\n",
       " ([41, 48], 1),\n",
       " ([28, 18], 1),\n",
       " ([26, 4], 1),\n",
       " ([26, 21], 1),\n",
       " ([37, 13], 1),\n",
       " ([37, 3], 1),\n",
       " ([14, 9], 1),\n",
       " ([14, 22], 1),\n",
       " ([1, 28], 1),\n",
       " ([13, 24], 1),\n",
       " ([13, 34], 1),\n",
       " ([39, 33], 1),\n",
       " ([21, 30], 1),\n",
       " ([25, 46], 1),\n",
       " ([24, 21], 1),\n",
       " ([44, 5], 1),\n",
       " ([34, 21], 1),\n",
       " ([23, 43], 1)]"
      ]
     },
     "execution_count": 10,
     "metadata": {},
     "output_type": "execute_result"
    }
   ],
   "source": [
    "b.coreset"
   ]
  },
  {
   "cell_type": "code",
   "execution_count": 11,
   "id": "f2d17f63",
   "metadata": {},
   "outputs": [
    {
     "data": {
      "text/plain": [
       "95"
      ]
     },
     "execution_count": 11,
     "metadata": {},
     "output_type": "execute_result"
    }
   ],
   "source": [
    "len(b.coreset)"
   ]
  },
  {
   "cell_type": "code",
   "execution_count": 12,
   "id": "0f77c358",
   "metadata": {},
   "outputs": [
    {
     "data": {
      "text/plain": [
       "True"
      ]
     },
     "execution_count": 12,
     "metadata": {},
     "output_type": "execute_result"
    }
   ],
   "source": [
    "a.can_union(b)"
   ]
  },
  {
   "cell_type": "code",
   "execution_count": 13,
   "id": "c1ff99e8",
   "metadata": {},
   "outputs": [],
   "source": [
    "a.union(b)"
   ]
  },
  {
   "cell_type": "code",
   "execution_count": 14,
   "id": "46effb6a",
   "metadata": {
    "scrolled": true
   },
   "outputs": [
    {
     "data": {
      "text/plain": [
       "[([44, 30], 1),\n",
       " ([22, 49], 2),\n",
       " ([32, 19], 1),\n",
       " ([31, 23], 1),\n",
       " ([25, 40], 1),\n",
       " ([1, 29], 2),\n",
       " ([43, 32], 1),\n",
       " ([35, 28], 2),\n",
       " ([18, 32], 1),\n",
       " ([16, 41], 1),\n",
       " ([14, 0], 2),\n",
       " ([31, 32], 1),\n",
       " ([14, 18], 1),\n",
       " ([5, 48], 1),\n",
       " ([3, 20], 1),\n",
       " ([10, 42], 1),\n",
       " ([40, 29], 1),\n",
       " ([36, 32], 1),\n",
       " ([28, 21], 1),\n",
       " ([28, 6], 1),\n",
       " ([23, 11], 1),\n",
       " ([42, 12], 1),\n",
       " ([5, 12], 1),\n",
       " ([38, 49], 2),\n",
       " ([26, 32], 2),\n",
       " ([23, 18], 1),\n",
       " ([49, 35], 1),\n",
       " ([31, 27], 2),\n",
       " ([21, 41], 1),\n",
       " ([45, 14], 1),\n",
       " ([24, 16], 1),\n",
       " ([30, 41], 2),\n",
       " ([42, 36], 1),\n",
       " ([9, 27], 1),\n",
       " ([20, 6], 2),\n",
       " ([30, 4], 1),\n",
       " ([31, 1], 1),\n",
       " ([28, 36], 1),\n",
       " ([0, 15], 1),\n",
       " ([17, 8], 1),\n",
       " ([24, 0], 1),\n",
       " ([8, 32], 1),\n",
       " ([6, 33], 2),\n",
       " ([27, 15], 1),\n",
       " ([20, 24], 1),\n",
       " ([12, 19], 2),\n",
       " ([18, 13], 1),\n",
       " ([34, 4], 1),\n",
       " ([5, 45], 1),\n",
       " ([15, 4], 1),\n",
       " ([11, 6], 1),\n",
       " ([43, 10], 2),\n",
       " ([31, 18], 1),\n",
       " ([39, 45], 1),\n",
       " ([13, 49], 1),\n",
       " ([41, 50], 1),\n",
       " ([49, 31], 2),\n",
       " ([19, 48], 1),\n",
       " ([42, 31], 1),\n",
       " ([6, 50], 1),\n",
       " ([47, 17], 1),\n",
       " ([42, 28], 1),\n",
       " ([36, 28], 2),\n",
       " ([49, 48], 1),\n",
       " ([34, 10], 1),\n",
       " ([36, 37], 1),\n",
       " ([48, 36], 1),\n",
       " ([46, 20], 1),\n",
       " ([24, 29], 1),\n",
       " ([19, 36], 1),\n",
       " ([0, 49], 1),\n",
       " ([41, 25], 1),\n",
       " ([3, 16], 1),\n",
       " ([16, 15], 1),\n",
       " ([49, 19], 1),\n",
       " ([22, 23], 1),\n",
       " ([47, 19], 2),\n",
       " ([45, 35], 2),\n",
       " ([17, 5], 1),\n",
       " ([30, 2], 1),\n",
       " ([19, 47], 1),\n",
       " ([9, 6], 1),\n",
       " ([41, 33], 1),\n",
       " ([26, 0], 1),\n",
       " ([0, 33], 1),\n",
       " ([16, 12], 1),\n",
       " ([21, 13], 1),\n",
       " ([20, 18], 2),\n",
       " ([11, 8], 1),\n",
       " ([39, 14], 1),\n",
       " ([24, 21], 2),\n",
       " ([6, 41], 1),\n",
       " ([11, 24], 2),\n",
       " ([33, 25], 1),\n",
       " ([19, 16], 1),\n",
       " ([7, 38], 1),\n",
       " ([10, 17], 2),\n",
       " ([23, 9], 1),\n",
       " ([36, 6], 1),\n",
       " ([1, 1], 1),\n",
       " ([10, 18], 1),\n",
       " ([17, 47], 2),\n",
       " ([22, 45], 1),\n",
       " ([33, 0], 1),\n",
       " ([36, 27], 1),\n",
       " ([36, 10], 1),\n",
       " ([15, 39], 1),\n",
       " ([16, 25], 1),\n",
       " ([43, 23], 1),\n",
       " ([50, 49], 2),\n",
       " ([29, 5], 1),\n",
       " ([26, 9], 1),\n",
       " ([5, 7], 1),\n",
       " ([43, 20], 2),\n",
       " ([41, 4], 1),\n",
       " ([18, 21], 1),\n",
       " ([24, 11], 1),\n",
       " ([8, 50], 1),\n",
       " ([32, 38], 1),\n",
       " ([24, 42], 1),\n",
       " ([30, 46], 1),\n",
       " ([48, 47], 1),\n",
       " ([31, 16], 1),\n",
       " ([28, 15], 1),\n",
       " ([6, 46], 1),\n",
       " ([17, 1], 1),\n",
       " ([9, 29], 1),\n",
       " ([29, 1], 1),\n",
       " ([28, 44], 1),\n",
       " ([30, 6], 1),\n",
       " ([7, 13], 1),\n",
       " ([31, 29], 1),\n",
       " ([45, 17], 1),\n",
       " ([48, 10], 1),\n",
       " ([40, 13], 1),\n",
       " ([35, 31], 1),\n",
       " ([15, 31], 1),\n",
       " ([34, 12], 1),\n",
       " ([7, 25], 1),\n",
       " ([14, 44], 1),\n",
       " ([11, 29], 1),\n",
       " ([34, 17], 2),\n",
       " ([1, 2], 1),\n",
       " ([46, 33], 1),\n",
       " ([33, 33], 1),\n",
       " ([47, 34], 1),\n",
       " ([49, 32], 1),\n",
       " ([8, 0], 1),\n",
       " ([49, 27], 1),\n",
       " ([12, 32], 1),\n",
       " ([19, 43], 1),\n",
       " ([8, 8], 1),\n",
       " ([49, 6], 1),\n",
       " ([47, 27], 1),\n",
       " ([5, 14], 1),\n",
       " ([34, 39], 1),\n",
       " ([5, 23], 1),\n",
       " ([37, 39], 1),\n",
       " ([17, 42], 1),\n",
       " ([1, 18], 1),\n",
       " ([41, 48], 1),\n",
       " ([28, 18], 1),\n",
       " ([26, 4], 1),\n",
       " ([26, 21], 1),\n",
       " ([37, 13], 1),\n",
       " ([37, 3], 1),\n",
       " ([14, 9], 1),\n",
       " ([14, 22], 1),\n",
       " ([13, 24], 1),\n",
       " ([13, 34], 1),\n",
       " ([39, 33], 1),\n",
       " ([21, 30], 1),\n",
       " ([25, 46], 1),\n",
       " ([44, 5], 1),\n",
       " ([34, 21], 1),\n",
       " ([23, 43], 1)]"
      ]
     },
     "execution_count": 14,
     "metadata": {},
     "output_type": "execute_result"
    }
   ],
   "source": [
    "a.coreset"
   ]
  },
  {
   "cell_type": "code",
   "execution_count": 15,
   "id": "35e0bf2d",
   "metadata": {},
   "outputs": [
    {
     "data": {
      "text/plain": [
       "176"
      ]
     },
     "execution_count": 15,
     "metadata": {},
     "output_type": "execute_result"
    }
   ],
   "source": [
    "len(a.coreset)"
   ]
  },
  {
   "cell_type": "code",
   "execution_count": 32,
   "id": "fd814788",
   "metadata": {},
   "outputs": [],
   "source": [
    "#Test data\n",
    "x_arr = []\n",
    "data_size = 10000\n",
    "chunk_size = 1000\n",
    "for i in range(10000):\n",
    "    x_val, y_val = np.random.randint(0,100), np.random.randint(0,100)\n",
    "    x_arr.append([x_val, y_val])"
   ]
  },
  {
   "cell_type": "code",
   "execution_count": 33,
   "id": "5ca68b83",
   "metadata": {},
   "outputs": [],
   "source": [
    "a = Coreset_Streaming(data_size)\n",
    "b = Coreset_Streaming(data_size)\n",
    "\n",
    "# first add first chunk to a\n",
    "for i in range(chunk_size):\n",
    "    a.add_point(x_arr[i])\n",
    "    \n",
    "counter = 1\n",
    "for i in range(chunk_size, len(x_arr)):\n",
    "    b.add_point(x_arr[i])\n",
    "    \n",
    "    if counter % chunk_size == 0:\n",
    "        if a.can_union(b):\n",
    "            a.union(b)\n",
    "            b = Coreset_Streaming(data_size)\n",
    "        else:\n",
    "            while not a.can_union(b):\n",
    "                # will the resolution of b ever be more than that of a?\n",
    "                if a.resolution > b.resolution:\n",
    "                    b.double_resolution()\n",
    "                else:\n",
    "                    a.double_resolution()\n",
    "    counter += 1        \n",
    "    "
   ]
  },
  {
   "cell_type": "code",
   "execution_count": 47,
   "id": "5f07d572",
   "metadata": {},
   "outputs": [],
   "source": [
    "og_xs = []\n",
    "og_ys = []\n",
    "for (x, y) in x_arr:\n",
    "    og_xs.append(x)\n",
    "    og_ys.append(y)\n",
    "    \n",
    "cs_xs = []\n",
    "cs_ys = []\n",
    "for ((x, y), weight) in a.coreset:\n",
    "    cs_xs.append(x)\n",
    "    cs_ys.append(y)"
   ]
  },
  {
   "cell_type": "code",
   "execution_count": 56,
   "id": "18c55cc6",
   "metadata": {},
   "outputs": [
    {
     "data": {
      "text/plain": [
       "<matplotlib.legend.Legend at 0x7fd5c04b2940>"
      ]
     },
     "execution_count": 56,
     "metadata": {},
     "output_type": "execute_result"
    },
    {
     "data": {
      "image/png": "[encoded data removed]",
      "text/plain": [
       "<Figure size 640x480 with 1 Axes>"
      ]
     },
     "metadata": {
      "needs_background": "light"
     },
     "output_type": "display_data"
    }
   ],
   "source": [
    "fig = plt.figure(figsize=(8, 6), dpi=80)\n",
    "plt.scatter(og_xs, og_ys, s=0.1, label=\"Original points\")\n",
    "plt.scatter(cs_xs, cs_ys, s=0.1, c=\"red\", label=\"Coreset\")\n",
    "plt.legend(loc=\"lower right\", fontsize=9)"
   ]
  },
  {
   "cell_type": "code",
   "execution_count": null,
   "id": "c12930af",
   "metadata": {},
   "outputs": [],
   "source": []
  }
 ],
 "metadata": {
  "kernelspec": {
   "display_name": "Python 3 (ipykernel)",
   "language": "python",
   "name": "python3"
  },
  "language_info": {
   "codemirror_mode": {
    "name": "ipython",
    "version": 3
   },
   "file_extension": ".py",
   "mimetype": "text/x-python",
   "name": "python",
   "nbconvert_exporter": "python",
   "pygments_lexer": "ipython3",
   "version": "3.9.7"
  }
 },
 "nbformat": 4,
 "nbformat_minor": 5
}
