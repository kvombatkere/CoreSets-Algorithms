{
 "cells": [
  {
   "cell_type": "code",
   "execution_count": null,
   "id": "69fbaedc",
   "metadata": {},
   "outputs": [],
   "source": [
    "from coreset_streaming import Coreset_Streaming\n",
    "import numpy as np\n",
    "import random \n",
    "import matplotlib.pyplot as plt\n",
    "import helper_functions as hf"
   ]
  },
  {
   "cell_type": "code",
   "execution_count": null,
   "id": "85c5dc97",
   "metadata": {},
   "outputs": [],
   "source": [
    "a = Coreset_Streaming(10000)\n",
    "b = Coreset_Streaming(10000)"
   ]
  },
  {
   "cell_type": "code",
   "execution_count": null,
   "id": "f1d6f8e3",
   "metadata": {},
   "outputs": [],
   "source": [
    "def add_n_points_to_cs(cs, n, r):\n",
    "    \"\"\" Args:\n",
    "            cs: coreset\n",
    "            n: number of points to add\n",
    "            r: range from 0 to r (inclusive) to sample from\n",
    "    \"\"\"\n",
    "    points = []\n",
    "    for i in range(n):\n",
    "        point = [random.randint(0, r), random.randint(0,r)]\n",
    "        cs.add_point(point)"
   ]
  },
  {
   "cell_type": "code",
   "execution_count": null,
   "id": "4c787d47",
   "metadata": {},
   "outputs": [],
   "source": [
    "n = 100\n",
    "r = 50\n",
    "add_n_points_to_cs(a, n, r)\n",
    "add_n_points_to_cs(b, n, r)"
   ]
  },
  {
   "cell_type": "code",
   "execution_count": null,
   "id": "18123669",
   "metadata": {},
   "outputs": [],
   "source": [
    "a.build_coreset()"
   ]
  },
  {
   "cell_type": "code",
   "execution_count": null,
   "id": "3c02c11b",
   "metadata": {},
   "outputs": [],
   "source": [
    "b.build_coreset()"
   ]
  },
  {
   "cell_type": "code",
   "execution_count": null,
   "id": "34d9589e",
   "metadata": {
    "scrolled": true
   },
   "outputs": [],
   "source": [
    "a.coreset"
   ]
  },
  {
   "cell_type": "code",
   "execution_count": null,
   "id": "8d01731e",
   "metadata": {},
   "outputs": [],
   "source": [
    "len(a.coreset)"
   ]
  },
  {
   "cell_type": "code",
   "execution_count": null,
   "id": "73eeb990",
   "metadata": {
    "scrolled": true
   },
   "outputs": [],
   "source": [
    "b.coreset"
   ]
  },
  {
   "cell_type": "code",
   "execution_count": null,
   "id": "f2d17f63",
   "metadata": {},
   "outputs": [],
   "source": [
    "len(b.coreset)"
   ]
  },
  {
   "cell_type": "code",
   "execution_count": null,
   "id": "0f77c358",
   "metadata": {},
   "outputs": [],
   "source": [
    "a.can_union(b)"
   ]
  },
  {
   "cell_type": "code",
   "execution_count": null,
   "id": "c1ff99e8",
   "metadata": {},
   "outputs": [],
   "source": [
    "a.union(b)"
   ]
  },
  {
   "cell_type": "code",
   "execution_count": null,
   "id": "46effb6a",
   "metadata": {
    "scrolled": true
   },
   "outputs": [],
   "source": [
    "a.coreset"
   ]
  },
  {
   "cell_type": "code",
   "execution_count": null,
   "id": "35e0bf2d",
   "metadata": {},
   "outputs": [],
   "source": [
    "len(a.coreset)"
   ]
  },
  {
   "cell_type": "code",
   "execution_count": null,
   "id": "fd814788",
   "metadata": {},
   "outputs": [],
   "source": [
    "def generate_uniform_test_data():\n",
    "    x_arr = []\n",
    "    for i in range(10000):\n",
    "        x_val, y_val = np.random.randint(0,100), np.random.randint(0,100)\n",
    "        x_arr.append([x_val, y_val])\n",
    "    return x_arr\n",
    "\n",
    "def get_arrs_for_plotting_stream(stream):\n",
    "    og_xs = []\n",
    "    og_ys = []\n",
    "    for (x, y) in stream:\n",
    "        og_xs.append(x)\n",
    "        og_ys.append(y)\n",
    "    return (og_xs, og_ys)\n",
    "\n",
    "def get_arrs_for_plotting_coreset(coreset):\n",
    "    cs_xs = []\n",
    "    cs_ys = []\n",
    "    weights = []\n",
    "    for ((x, y), weight) in coreset:\n",
    "        cs_xs.append(x)\n",
    "        cs_ys.append(y)\n",
    "        weights.append(weight)\n",
    "        \n",
    "    return (cs_xs, cs_ys, weights)\n",
    "\n",
    "def run_stream(stream, data_size=10000, chunk_size=1000):\n",
    "    \"\"\" Returns the coreset.\n",
    "    \"\"\"\n",
    "    a = Coreset_Streaming(data_size)\n",
    "    b = Coreset_Streaming(data_size)\n",
    "\n",
    "    # first add first chunk to a\n",
    "    for i in range(chunk_size):\n",
    "        a.add_point(stream[i])\n",
    "\n",
    "    counter = 1\n",
    "    for i in range(chunk_size, len(stream)):\n",
    "        b.add_point(stream[i])\n",
    "\n",
    "        if counter % chunk_size == 0:\n",
    "            if a.can_union(b):\n",
    "                a.union(b)\n",
    "                b = Coreset_Streaming(data_size)\n",
    "            else:\n",
    "                while not a.can_union(b):\n",
    "                    # will the resolution of b ever be more than that of a?\n",
    "                    if a.resolution > b.resolution:\n",
    "                        b.double_resolution()\n",
    "                    else:\n",
    "                        a.double_resolution()\n",
    "        counter += 1        \n",
    "\n",
    "    return a"
   ]
  },
  {
   "cell_type": "code",
   "execution_count": null,
   "id": "5ca68b83",
   "metadata": {},
   "outputs": [],
   "source": [
    "uniform_stream = generate_uniform_test_data()\n",
    "coreset = run_stream(uniform_stream)\n",
    "(og_xs, og_ys) = get_arrs_for_plotting_stream(uniform_stream)\n",
    "(cs_xs, cs_ys, weights) =  get_arrs_for_plotting_coreset(coreset.coreset)\n",
    "fig = plt.figure(figsize=(8, 6), dpi=80)\n",
    "plt.scatter(og_xs, og_ys, s=0.1, label=\"Original points\")\n",
    "plt.scatter(cs_xs, cs_ys, s=weights, c=\"red\", label=\"Coreset\")\n",
    "plt.legend(loc=\"lower right\", fontsize=9)"
   ]
  },
  {
   "cell_type": "code",
   "execution_count": null,
   "id": "c12930af",
   "metadata": {},
   "outputs": [],
   "source": [
    "# generate 3 gaussian clusters\n",
    "rng = np.random.default_rng(12345)\n",
    "n = 10000\n",
    "k = 5\n",
    "means1 = [[5, 5], [-5, -5], [0, 0]]\n",
    "covs1 = [np.array([[1, 0], [0, 1]]), np.array([[1, 0], [0, 1]]), np.array([[7, 0], [0, 1]])]\n",
    "gaussian_stream = hf.simulate_gaussian_clusters(rng, [3000, 2000, 5000], 3, means1, covs1)\n",
    "\n",
    "coreset = run_stream(gaussian_stream)\n",
    "(og_xs, og_ys) = get_arrs_for_plotting_stream(gaussian_stream)\n",
    "(cs_xs, cs_ys, weights) = get_arrs_for_plotting_coreset(coreset.coreset)\n",
    "fig = plt.figure(figsize=(8, 6), dpi=80)\n",
    "plt.scatter(og_xs, og_ys, s=0.1, label=\"Original points\")\n",
    "plt.scatter(cs_xs, cs_ys, s=weights, c=\"red\", label=\"Coreset\")\n",
    "plt.legend(loc=\"lower right\", fontsize=9)"
   ]
  },
  {
   "cell_type": "code",
   "execution_count": null,
   "id": "d11927d5",
   "metadata": {},
   "outputs": [],
   "source": [
    "cs_points = []\n",
    "weights = []\n",
    "for (point, weight) in coreset.coreset:\n",
    "    cs_points.append(point)\n",
    "    weights.append(weight)\n",
    "k = 3\n",
    "kmeans_centers = hf.weighted_kmeans(gaussian_stream, k, rng)\n",
    "kmeans_coreset = hf.weighted_kmeans(np.array(cs_points), k, rng, w = weights)\n",
    "(kxs, kys) = get_arrs_for_plotting_stream(kmeans_centers)\n",
    "(ckxs, ckys) = get_arrs_for_plotting_stream(kmeans_centers)\n",
    "fig = plt.figure(figsize=(8, 6), dpi=80)\n",
    "plt.scatter(og_xs, og_ys, s=0.1, label=\"Original points\")\n",
    "plt.scatter(cs_xs, cs_ys, s=1, c=\"orange\", label=\"Coreset\")\n",
    "plt.scatter(kxs, kys, s=20, c=\"red\", label=\"K-means on Original points\")\n",
    "plt.scatter(ckxs, ckys, s=20, c=\"purple\", label=\"Weighted K-means on Coreset points\")\n",
    "plt.legend(loc=\"lower right\", fontsize=9)"
   ]
  },
  {
   "cell_type": "code",
   "execution_count": null,
   "id": "cbab5bb5",
   "metadata": {},
   "outputs": [],
   "source": []
  }
 ],
 "metadata": {
  "kernelspec": {
   "display_name": "Python 3 (ipykernel)",
   "language": "python",
   "name": "python3"
  },
  "language_info": {
   "codemirror_mode": {
    "name": "ipython",
    "version": 3
   },
   "file_extension": ".py",
   "mimetype": "text/x-python",
   "name": "python",
   "nbconvert_exporter": "python",
   "pygments_lexer": "ipython3",
   "version": "3.9.7"
  }
 },
 "nbformat": 4,
 "nbformat_minor": 5
}
