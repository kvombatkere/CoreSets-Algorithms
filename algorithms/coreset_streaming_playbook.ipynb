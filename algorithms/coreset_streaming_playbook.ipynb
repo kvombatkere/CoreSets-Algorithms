{
 "cells": [
  {
   "cell_type": "code",
   "execution_count": 1,
   "id": "cc767c5f",
   "metadata": {},
   "outputs": [],
   "source": [
    "from coreset_streaming import Coreset_Streaming\n",
    "import numpy as np\n",
    "import random "
   ]
  },
  {
   "cell_type": "code",
   "execution_count": 2,
   "id": "e00b19a3",
   "metadata": {},
   "outputs": [],
   "source": [
    "cs = Coreset_Streaming()"
   ]
  },
  {
   "cell_type": "code",
   "execution_count": 3,
   "id": "1d4b43af",
   "metadata": {},
   "outputs": [],
   "source": [
    "points = []\n",
    "for i in range(100):\n",
    "    point = [random.randint(0, 50), random.randint(0,50)]\n",
    "    points.append(point)"
   ]
  },
  {
   "cell_type": "code",
   "execution_count": 4,
   "id": "5a8103e9",
   "metadata": {},
   "outputs": [],
   "source": [
    "for point in points:\n",
    "    cs.add_point(point)"
   ]
  },
  {
   "cell_type": "code",
   "execution_count": 5,
   "id": "98e9568f",
   "metadata": {},
   "outputs": [],
   "source": [
    "cs.build_coreset()"
   ]
  },
  {
   "cell_type": "code",
   "execution_count": null,
   "id": "ff22f5b5",
   "metadata": {
    "scrolled": true
   },
   "outputs": [],
   "source": [
    "# for (loc, points) in cs.grid_points.items():\n",
    "#     print(loc)"
   ]
  },
  {
   "cell_type": "code",
   "execution_count": 6,
   "id": "2ba0f352",
   "metadata": {},
   "outputs": [
    {
     "data": {
      "text/plain": [
       "[([22, 31], 1),\n",
       " ([29, 10], 1),\n",
       " ([33, 34], 1),\n",
       " ([1, 35], 1),\n",
       " ([2, 13], 1),\n",
       " ([39, 5], 1),\n",
       " ([47, 26], 1),\n",
       " ([35, 21], 1),\n",
       " ([19, 5], 1),\n",
       " ([33, 26], 1),\n",
       " ([49, 49], 1),\n",
       " ([42, 27], 1),\n",
       " ([40, 49], 1),\n",
       " ([37, 24], 1),\n",
       " ([46, 12], 1),\n",
       " ([50, 43], 1),\n",
       " ([49, 3], 1),\n",
       " ([30, 37], 1),\n",
       " ([16, 46], 1),\n",
       " ([17, 39], 2),\n",
       " ([8, 11], 1),\n",
       " ([12, 5], 1),\n",
       " ([10, 44], 1),\n",
       " ([16, 11], 1),\n",
       " ([49, 28], 1),\n",
       " ([7, 11], 1),\n",
       " ([26, 37], 1),\n",
       " ([5, 30], 2),\n",
       " ([35, 17], 1),\n",
       " ([11, 48], 1),\n",
       " ([42, 24], 2),\n",
       " ([47, 1], 1),\n",
       " ([25, 37], 1),\n",
       " ([33, 48], 2),\n",
       " ([45, 41], 1),\n",
       " ([29, 37], 1),\n",
       " ([30, 21], 1),\n",
       " ([40, 46], 1),\n",
       " ([43, 38], 1),\n",
       " ([50, 44], 1),\n",
       " ([39, 20], 1),\n",
       " ([49, 41], 1),\n",
       " ([26, 27], 1),\n",
       " ([5, 34], 1),\n",
       " ([48, 21], 1),\n",
       " ([33, 22], 1),\n",
       " ([36, 20], 1),\n",
       " ([20, 38], 1),\n",
       " ([6, 28], 2),\n",
       " ([12, 15], 1),\n",
       " ([7, 3], 1),\n",
       " ([21, 5], 1),\n",
       " ([8, 28], 1),\n",
       " ([23, 42], 1),\n",
       " ([23, 2], 1),\n",
       " ([26, 21], 1),\n",
       " ([1, 14], 1),\n",
       " ([36, 11], 1),\n",
       " ([12, 23], 1),\n",
       " ([47, 23], 1),\n",
       " ([6, 26], 1),\n",
       " ([40, 33], 1),\n",
       " ([39, 14], 1),\n",
       " ([12, 6], 2),\n",
       " ([38, 43], 1),\n",
       " ([24, 18], 1),\n",
       " ([24, 4], 1),\n",
       " ([40, 31], 1),\n",
       " ([7, 15], 1),\n",
       " ([17, 28], 1),\n",
       " ([32, 18], 1),\n",
       " ([26, 28], 1),\n",
       " ([1, 46], 1),\n",
       " ([39, 48], 1),\n",
       " ([41, 25], 1),\n",
       " ([34, 31], 1),\n",
       " ([2, 6], 1),\n",
       " ([0, 26], 1),\n",
       " ([39, 37], 1),\n",
       " ([39, 30], 1),\n",
       " ([5, 40], 1),\n",
       " ([46, 40], 1),\n",
       " ([9, 4], 1),\n",
       " ([19, 26], 1),\n",
       " ([41, 23], 1),\n",
       " ([26, 49], 1),\n",
       " ([44, 43], 1),\n",
       " ([49, 18], 1),\n",
       " ([49, 46], 1),\n",
       " ([8, 32], 1),\n",
       " ([1, 44], 1),\n",
       " ([39, 44], 1),\n",
       " ([4, 29], 1),\n",
       " ([16, 24], 1)]"
      ]
     },
     "execution_count": 6,
     "metadata": {},
     "output_type": "execute_result"
    }
   ],
   "source": [
    "cs.coreset"
   ]
  },
  {
   "cell_type": "code",
   "execution_count": 7,
   "id": "52ddf844",
   "metadata": {},
   "outputs": [
    {
     "data": {
      "text/plain": [
       "94"
      ]
     },
     "execution_count": 7,
     "metadata": {},
     "output_type": "execute_result"
    }
   ],
   "source": [
    "len(cs.coreset)"
   ]
  },
  {
   "cell_type": "code",
   "execution_count": 16,
   "id": "9af060c1",
   "metadata": {},
   "outputs": [],
   "source": [
    "cs.double_resolution()"
   ]
  },
  {
   "cell_type": "code",
   "execution_count": 17,
   "id": "749a0025",
   "metadata": {
    "scrolled": false
   },
   "outputs": [
    {
     "data": {
      "text/plain": [
       "4"
      ]
     },
     "execution_count": 17,
     "metadata": {},
     "output_type": "execute_result"
    }
   ],
   "source": [
    "len(cs.coreset)"
   ]
  },
  {
   "cell_type": "code",
   "execution_count": 18,
   "id": "5b630576",
   "metadata": {},
   "outputs": [
    {
     "data": {
      "text/plain": [
       "[([5, 30], 36), ([44, 43], 19), ([10, 44], 18), ([39, 5], 27)]"
      ]
     },
     "execution_count": 18,
     "metadata": {},
     "output_type": "execute_result"
    }
   ],
   "source": [
    "cs.coreset"
   ]
  },
  {
   "cell_type": "code",
   "execution_count": 19,
   "id": "77c6ec9e",
   "metadata": {},
   "outputs": [
    {
     "data": {
      "text/plain": [
       "16"
      ]
     },
     "execution_count": 19,
     "metadata": {},
     "output_type": "execute_result"
    }
   ],
   "source": [
    "cs.resolution"
   ]
  },
  {
   "cell_type": "code",
   "execution_count": 20,
   "id": "18b426a0",
   "metadata": {},
   "outputs": [
    {
     "data": {
      "text/plain": [
       "32"
      ]
     },
     "execution_count": 20,
     "metadata": {},
     "output_type": "execute_result"
    }
   ],
   "source": [
    "cs.side_length"
   ]
  },
  {
   "cell_type": "code",
   "execution_count": null,
   "id": "3a80067f",
   "metadata": {},
   "outputs": [],
   "source": []
  }
 ],
 "metadata": {
  "kernelspec": {
   "display_name": "Python 3 (ipykernel)",
   "language": "python",
   "name": "python3"
  },
  "language_info": {
   "codemirror_mode": {
    "name": "ipython",
    "version": 3
   },
   "file_extension": ".py",
   "mimetype": "text/x-python",
   "name": "python",
   "nbconvert_exporter": "python",
   "pygments_lexer": "ipython3",
   "version": "3.9.7"
  }
 },
 "nbformat": 4,
 "nbformat_minor": 5
}
