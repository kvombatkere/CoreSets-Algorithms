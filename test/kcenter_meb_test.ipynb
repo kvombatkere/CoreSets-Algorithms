{
 "cells": [
  {
   "cell_type": "code",
   "execution_count": null,
   "metadata": {},
   "outputs": [],
   "source": [
    "## K-Center and MEB Testing\n",
    "## Karan Vombatkere, Dec 2021\n",
    "\n",
    "#Imports\n",
    "import numpy as np\n",
    "\n",
    "import sys\n",
    "sys.path.append('../algorithms/')\n",
    "\n",
    "import coreset_util as c_util\n",
    "import coreset_kcenter as c_kcenter\n",
    "import coreset_meb as c_meb\n",
    "import coreset_median as c_median\n",
    "import helper_functions as hf\n",
    "\n"
   ]
  },
  {
   "cell_type": "code",
   "execution_count": null,
   "metadata": {},
   "outputs": [],
   "source": [
    "#Function to import data from data folder\n",
    "def import_dataset(dataset_name, col_list):\n",
    "    '''\n",
    "    Import input data from data folder\n",
    "    Args:\n",
    "        dataset_name: csv file name, stored in data folder\n",
    "        col_list: list of columns to compute Coreset on\n",
    "    '''\n",
    "    coreset_data = c_util.Coreset_Util(dataset_name, col_list)\n",
    "    test_data = coreset_data.X_array\n",
    "\n",
    "    return test_data\n",
    "\n",
    "\n",
    "#Code to run k-center implementation and return metrics\n",
    "def run_kcenter(x_arr, k_val, epsilon):\n",
    "    '''\n",
    "    Test kcenter class and generate relevant metrics on input data\n",
    "    Args:\n",
    "        x_arr: input data - numpy ndarray\n",
    "        k_val: k value for number of cluster centers\n",
    "        epsilon: epsilon value\n",
    "    '''\n",
    "    #Initialize kcenter coreset object with parameters\n",
    "    print(\"============================================================================\")\n",
    "    kcenter_obj = c_kcenter.Coreset_kCenter(x_arr, k_val, epsilon)\n",
    "    computed_coreset = kcenter_obj.compute_kCenter_Coreset()\n",
    "\n",
    "    kcenter_cost = kcenter_obj.R_val\n",
    "    min_range = (1-epsilon)*kcenter_cost\n",
    "    max_range = (1+epsilon)*kcenter_cost\n",
    "\n",
    "    #Initialize kcenter coreset object with coreset\n",
    "    print(\"---------------------------------------------------------------------------\")\n",
    "    print('Computing centers on Coreset')\n",
    "    kcenter_coreset_obj = c_kcenter.Coreset_kCenter(computed_coreset, k_val, epsilon)\n",
    "    kcenter_coreset_obj.greedy_kcenter()\n",
    "    coreset_kcenter_cost = kcenter_coreset_obj.R_val\n",
    "\n",
    "    print(\"(1+e) approximation range = [{:.1f}, {:.1f}]\".format(min_range, max_range))\n",
    "\n",
    "    return None\n",
    "    \n",
    "\n"
   ]
  },
  {
   "cell_type": "code",
   "execution_count": null,
   "metadata": {},
   "outputs": [],
   "source": []
  },
  {
   "cell_type": "code",
   "execution_count": null,
   "metadata": {},
   "outputs": [],
   "source": [
    "#Specify testing parameters\n",
    "dataset_name = 'UNdata_CO2Emissions.csv'\n",
    "col_list = ['Year', 'Value']\n",
    "UN_data = import_dataset(dataset_name, col_list)\n",
    "\n",
    "#Specify parameters\n",
    "k = 6\n",
    "epsilon = 0.4\n",
    "num_iterations = 2\n",
    "\n",
    "\n",
    "for i in range(num_iterations):\n",
    "    #Run k-center\n",
    "    run_kcenter(UN_data, k, epsilon)"
   ]
  },
  {
   "cell_type": "code",
   "execution_count": null,
   "metadata": {},
   "outputs": [],
   "source": [
    "# generate 5 gaussian clusters\n",
    "rng = np.random.default_rng(12345)\n",
    "\n",
    "means1 = [[5, 5], [-6, -4], [0, 0], [8,8], [4,-2]]\n",
    "covs1 = [np.array([[1, 0], [0, 1]]), np.array([[1, 0], [0, 1]]), np.array([[7, 0], [0, 1]]), np.array([[1, 0], [0, 1]]), np.array([[1, 0], [0, 1]])]\n",
    "gaussian_stream = hf.simulate_gaussian_clusters(rng, [2000, 2000, 2000, 2000, 2000], 5, means1, covs1)"
   ]
  },
  {
   "cell_type": "code",
   "execution_count": null,
   "metadata": {},
   "outputs": [],
   "source": [
    "#Test kcenter on synthetic random data\n",
    "# x_arr = []\n",
    "# for i in range(1000):\n",
    "#     x_val, y_val, z_val = np.random.randint(-100,101), np.random.randint(-100,101), np.random.randint(-100,101)\n",
    "#     x_arr.append([x_val, y_val, z_val])\n",
    "\n",
    "test_kcenter = c_kcenter.Coreset_kCenter(gaussian_stream, 5, 0.4, True)\n",
    "test_coreset = test_kcenter.compute_kCenter_Coreset()\n"
   ]
  },
  {
   "cell_type": "code",
   "execution_count": null,
   "metadata": {},
   "outputs": [],
   "source": []
  },
  {
   "cell_type": "code",
   "execution_count": null,
   "metadata": {},
   "outputs": [],
   "source": [
    "#Test MEB on synthetic data\n",
    "eps=0.05\n",
    "plotting=True\n",
    "\n",
    "x_arr = []\n",
    "\n",
    "# for i in range(10000):\n",
    "#     x_val, y_val = np.random.normal(5,10), np.random.normal(0,4)\n",
    "#     x_arr.append([x_val, y_val])\n",
    "\n",
    "for i in range(10000):\n",
    "    x_val, y_val,  = np.random.randint(-100,101), np.random.randint(-100,101)\n",
    "    x_arr.append([x_val, y_val])\n",
    "\n",
    "meb_test = c_meb.Coreset_MinimumEnclosingBall(x_arr, eps, plotting)\n",
    "meb_test.compute_minimumEnclosingBall()"
   ]
  },
  {
   "cell_type": "code",
   "execution_count": null,
   "metadata": {},
   "outputs": [],
   "source": []
  }
 ],
 "metadata": {
  "interpreter": {
   "hash": "916dbcbb3f70747c44a77c7bcd40155683ae19c65e1c03b4aa3499c5328201f1"
  },
  "kernelspec": {
   "display_name": "Python 3.8.10 64-bit",
   "language": "python",
   "name": "python3"
  },
  "language_info": {
   "codemirror_mode": {
    "name": "ipython",
    "version": 3
   },
   "file_extension": ".py",
   "mimetype": "text/x-python",
   "name": "python",
   "nbconvert_exporter": "python",
   "pygments_lexer": "ipython3",
   "version": "3.8.10"
  },
  "orig_nbformat": 4
 },
 "nbformat": 4,
 "nbformat_minor": 2
}
