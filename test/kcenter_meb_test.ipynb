{
 "cells": [
  {
   "cell_type": "code",
   "execution_count": 1,
   "metadata": {},
   "outputs": [],
   "source": [
    "## K-Center Testing\n",
    "## Karan Vombatkere, Dec 2021\n",
    "\n",
    "#Imports\n"
   ]
  },
  {
   "cell_type": "code",
   "execution_count": null,
   "metadata": {},
   "outputs": [],
   "source": [
    "#preliminary testing\n",
    "dataset_name = 'UNdata_CO2Emissions.csv'\n",
    "col_list = ['Year', 'Value']\n",
    "\n",
    "coreset_data = Coreset_Util(dataset_name, col_list)\n",
    "coreset_data.X_array"
   ]
  },
  {
   "cell_type": "code",
   "execution_count": null,
   "metadata": {},
   "outputs": [],
   "source": [
    "#Test kcenter on synthetic random data\n",
    "x_arr = []\n",
    "for i in range(1000):\n",
    "    x_val, y_val = np.random.randint(-100,101), np.random.randint(-100,101)\n",
    "    x_arr.append([x_val, y_val])\n",
    "\n",
    "test_kcenter = Coreset_kCenter(x_arr, 15, 0.3)\n",
    "test_coreset = test_kcenter.compute_kCenter_Coreset()\n"
   ]
  },
  {
   "cell_type": "code",
   "execution_count": null,
   "metadata": {},
   "outputs": [],
   "source": [
    "#Test MEB on synthetic data\n",
    "x_arr = []\n",
    "for i in range(1000):\n",
    "    x_val, y_val = np.random.randint(-100,101), np.random.randint(-100,101)\n",
    "    x_arr.append([x_val, y_val])\n",
    "\n",
    "eps = 0.05\n",
    "\n",
    "meb_test = Coreset_MinimumEnclosingBall(x_arr, eps)\n",
    "v = meb_test.compute_minimumEnclosingBall()\n",
    "meb_test.plot2D_meb(v)"
   ]
  }
 ],
 "metadata": {
  "interpreter": {
   "hash": "916dbcbb3f70747c44a77c7bcd40155683ae19c65e1c03b4aa3499c5328201f1"
  },
  "kernelspec": {
   "display_name": "Python 3.8.10 64-bit",
   "language": "python",
   "name": "python3"
  },
  "language_info": {
   "codemirror_mode": {
    "name": "ipython",
    "version": 3
   },
   "file_extension": ".py",
   "mimetype": "text/x-python",
   "name": "python",
   "nbconvert_exporter": "python",
   "pygments_lexer": "ipython3",
   "version": "3.8.10"
  },
  "orig_nbformat": 4
 },
 "nbformat": 4,
 "nbformat_minor": 2
}
