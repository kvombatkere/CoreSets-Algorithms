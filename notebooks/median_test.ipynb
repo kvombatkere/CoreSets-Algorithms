{
 "cells": [
  {
   "cell_type": "code",
   "execution_count": null,
   "metadata": {},
   "outputs": [],
   "source": [
    "## Median Approximation Testing\n",
    "## Karan Vombatkere, Dec 2021\n",
    "\n",
    "#Imports\n",
    "import numpy as np\n",
    "import matplotlib.pyplot as plt\n",
    "\n",
    "import sys\n",
    "sys.path.append('../algorithms/')\n",
    "\n",
    "import coreset_median as c_median\n"
   ]
  },
  {
   "cell_type": "code",
   "execution_count": null,
   "metadata": {},
   "outputs": [],
   "source": [
    "# n_vals = np.logspace(1, 10, 10)\n",
    "# n_vals"
   ]
  },
  {
   "cell_type": "code",
   "execution_count": null,
   "metadata": {},
   "outputs": [],
   "source": [
    "#Test median estimation\n",
    "n_range = np.logspace(1, 10, 10)\n",
    "n_vals = n_range[2:7]\n",
    "epsilon = 0.01\n",
    "\n",
    "approxMedians = []\n",
    "trueMedians = []\n",
    "\n",
    "approxRuntimes = []\n",
    "trueRuntimes = []\n",
    "\n",
    "shape, scale = 5., 50.\n",
    "\n",
    "for n in n_vals:\n",
    "    print(n)\n",
    "\n",
    "    #Use a random gamma distribution for median\n",
    "    n_array = np.random.gamma(shape, scale, int(n))\n",
    "\n",
    "    median_approx_n = c_median.Coreset_Median(n_array, epsilon)\n",
    "    median_approx_n.compute_median()\n",
    "\n",
    "    #Extract medians + metrics\n",
    "    approxMedians.append(median_approx_n.approxMedianVal)\n",
    "    trueMedians.append(median_approx_n.trueMedian)\n",
    "\n",
    "    approxRuntimes.append(median_approx_n.runTime)\n",
    "    trueRuntimes.append(median_approx_n.np_runTime)\n"
   ]
  },
  {
   "cell_type": "code",
   "execution_count": null,
   "metadata": {},
   "outputs": [],
   "source": [
    "fig = plt.figure(figsize=(8, 6), dpi=80)\n",
    "plt.plot(n_vals, approxRuntimes, color = 'blue', marker='*', label='Approx runtime')\n",
    "plt.plot(n_vals, trueRuntimes, color = 'green', marker='+', label='True runtime')\n",
    "\n",
    "plt.legend(loc='upper left', fontsize=9)\n",
    "plt.xscale('log')\n",
    "plt.yscale('log')\n",
    "\n",
    "\n",
    "title_text = 'Approximate and True Median Runtimes, epsilon={}'.format(epsilon)\n",
    "plt.title(title_text, fontsize=11)\n",
    "plt.ylabel('Runtime (s)')\n",
    "plt.xlabel('n')\n",
    "plt.grid()"
   ]
  },
  {
   "cell_type": "code",
   "execution_count": null,
   "metadata": {},
   "outputs": [],
   "source": [
    "fig = plt.figure(figsize=(8, 6), dpi=80)\n",
    "plt.plot(n_vals, approxMedians, color = 'blue', marker='*', label='Approx median')\n",
    "plt.plot(n_vals, trueMedians, color = 'green', marker='+', label='True median')\n",
    "\n",
    "plt.legend(loc='lower right', fontsize=9)\n",
    "plt.xscale('log')\n",
    "\n",
    "title_text = 'Approximate and True Median Values, epsilon={}'.format(epsilon)\n",
    "plt.title(title_text, fontsize=11)\n",
    "plt.ylabel('Median Value')\n",
    "plt.xlabel('n')\n",
    "plt.grid()"
   ]
  },
  {
   "cell_type": "code",
   "execution_count": null,
   "metadata": {},
   "outputs": [],
   "source": []
  },
  {
   "cell_type": "code",
   "execution_count": null,
   "metadata": {},
   "outputs": [],
   "source": []
  }
 ],
 "metadata": {
  "interpreter": {
   "hash": "916dbcbb3f70747c44a77c7bcd40155683ae19c65e1c03b4aa3499c5328201f1"
  },
  "kernelspec": {
   "display_name": "Python 3.8.10 64-bit",
   "language": "python",
   "name": "python3"
  },
  "language_info": {
   "codemirror_mode": {
    "name": "ipython",
    "version": 3
   },
   "file_extension": ".py",
   "mimetype": "text/x-python",
   "name": "python",
   "nbconvert_exporter": "python",
   "pygments_lexer": "ipython3",
   "version": "3.8.10"
  },
  "orig_nbformat": 4
 },
 "nbformat": 4,
 "nbformat_minor": 2
}
